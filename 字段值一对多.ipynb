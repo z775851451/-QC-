{
 "cells": [
  {
   "cell_type": "code",
   "execution_count": 1,
   "metadata": {},
   "outputs": [
    {
     "name": "stdout",
     "output_type": "stream",
     "text": [
      "客户名：蒙牛、恒天然、喜宝、伊利、维他奶、百事可乐、红牛、桂格、可口可乐、倍耐力、马牌、固特异、任天堂、好记、家乐氏、卡士、Costa、雅士利、养乐多\n"
     ]
    }
   ],
   "source": [
    "#coding:utf-8\n",
    "# import _scproxy\n",
    "import pymssql\n",
    "import pandas as pd\n",
    "import datetime\n",
    "import smtplib\n",
    "\n",
    "\n",
    "from tqdm import tqdm\n",
    "from time import sleep\n",
    "\n",
    "start  = datetime.datetime.now()\n",
    "\n",
    "\n",
    "# import subprocess\n",
    "\n",
    "# # 打开文件或者速度最快, 推荐，不过只适用于Windows\n",
    "# def start_file(file_path):\n",
    "#     os.startfile(file_path)\n",
    "    \n",
    "\n",
    "import os\n",
    "def mkdir(path):\n",
    "        folder = os.path.exists(path)\n",
    "        if not folder:    \n",
    "                os.makedirs(path)            #makedirs 创建文件时如果路径不存在会创建这个路径\n",
    "                print('检测无 [模版] 文件夹,程序将自动创建,请将模版( 客户字段及内容_一对多.xlsx )放置到此处')#判断是否存在文件夹如果不存在则创建为文件夹\n",
    "                input('放置后确认将运行')\n",
    "        else:\n",
    "                # print('正在存放至 [模版] 📁')\n",
    "                pass\n",
    "mkdir('模版')\n",
    "\n",
    "\n",
    "\n",
    "\n",
    "df = pd.read_excel('模版/客户字段及内容_一对多.xlsx')\n",
    "# ,sheet_name='')\n",
    "df=df[['客户名','品类','数据库名','字段1','字段2','判断']]\n",
    "df1=df.reset_index()\n",
    "# 筛选客户品类\n",
    "# df1=df1['客户名']=='恒天然'\n",
    "# HN_1=HB[(HB['品类']=='功能饮料') & HB['品类细分'].isin(a)]\n",
    "# 客户名：蒙牛、恒天然、喜宝、伊利、维他奶、百事可乐、红牛、桂格、可口可乐、倍耐力、马牌、固特异、任天堂、好记、家乐氏、卡士、Costa、雅士利、养乐多\n",
    "print(\"客户名：蒙牛、恒天然、喜宝、伊利、维他奶、百事可乐、红牛、桂格、可口可乐、倍耐力、马牌、固特异、任天堂、好记、家乐氏、卡士、Costa、雅士利、养乐多\")\n",
    "kehu=input('请键入要运行的库户名称:')\n",
    "if kehu != 'all':\n",
    "    df=df1[df1['客户名']== kehu]\n",
    "else:\n",
    "    df=df1\n",
    "\n",
    "\n",
    "    "
   ]
  },
  {
   "cell_type": "code",
   "execution_count": 10,
   "metadata": {},
   "outputs": [
    {
     "name": "stderr",
     "output_type": "stream",
     "text": [
      "  0%|          | 0/57 [00:00<?, ?it/s]"
     ]
    },
    {
     "name": "stdout",
     "output_type": "stream",
     "text": [
      "正在运行.............\n"
     ]
    },
    {
     "name": "stderr",
     "output_type": "stream",
     "text": [
      "100%|██████████| 57/57 [00:56<00:00,  1.02it/s]\n"
     ]
    }
   ],
   "source": [
    "\n",
    "print('正在运行.............')\n",
    "# print(len(df))\n",
    "# print(df.iloc[0:3])\n",
    "dd_list=[]\n",
    "for i in tqdm(range(len(df))):\n",
    "    sleep(0.05)\n",
    "    a=df.iloc[i].tolist()\n",
    "    # print(a)\n",
    "    syntun_conn = pymssql.connect(server='192.168.0.15', user='zhongxin_yanfa', password='Xin_yanfa', charset='utf8')\n",
    "    if a[5]!= a[4] :\n",
    "        sql=\"select cast(\" + a[4]+\" as nvarchar ( 1000 ) ) as \"+a[4]+\",cast(\" + a[5]+\" as nvarchar ( 1000 )) as \"+a[5]+\",count(distinct \"+a[6]+ \") as k from \"+ a[3] +\" group by \"+a[4]+\",\"+a[5]+\" having count(distinct \"+a[6]+ \")>1\"\n",
    "        # print(sql)\n",
    "        syntun_cursor = syntun_conn.cursor()\n",
    "        try:\n",
    "            syntun_cursor.execute(sql)\n",
    "        except:\n",
    "            tqdm.write(a[3] +a[4] +'列:读取失败………………')\n",
    "            continue\n",
    "        sqljieguo = syntun_cursor.fetchall()\n",
    "        # print(\"sqljieguo=\", sqljieguo)\n",
    "        if sqljieguo != []:\n",
    "            # print(f'在{a[3]}表中{a[4]},{a[5]}列发现{a[6]}一对多!',sqljieguo)\n",
    "            for i in sqljieguo:\n",
    "                p=f'{a[3]}|{a[4]}|{a[6]}|'+str(i)# print(\"p=\", p)\n",
    "                \n",
    "            dd_list.append(p)\n",
    "    else:\n",
    "        sql=\"select cast(\" + a[4]+\" as nvarchar ( 1000 )) as \"+a[4]+\",count(distinct \"+a[6]+ \") as k from \"+ a[3] +\" group by \"+a[4]+\" having count(distinct \"+a[6]+ \")>1\"\n",
    "        # print(sql)\n",
    "        syntun_cursor = syntun_conn.cursor()\n",
    "        try:\n",
    "            syntun_cursor.execute(sql)\n",
    "        except:\n",
    "            tqdm.write(a[3] + a[4]+ ':读取失败………………')\n",
    "            continue\n",
    "        sqljieguo = syntun_cursor.fetchall()\n",
    "        # with pd.ExcelWriter(r'QCwrongdata.xlsx') as writer:\n",
    "        # print(\"sqljieguo=\", sqljieguo)\n",
    "        if sqljieguo != []:\n",
    "            # print(f'在{a[3]}表中{a[4]}列发现{a[6]}一对多!',sqljieguo)\n",
    "            for i in sqljieguo:\n",
    "            \n",
    "                p=f'{a[3]}|{a[4]}|{a[6]}|'+str(i)# print(\"p=\", p)\n",
    "            \n",
    "            # print(\"p=\",p)\n",
    "            dd_list.append(p)\n",
    "            # print(\"list=\",list)\n",
    "syntun_cursor.close()\n",
    "syntun_conn.close()\n",
    "list1=pd.DataFrame(dd_list,columns = ['lg'])\n",
    "# print(\"list1=\",list1)\n",
    "\n",
    "\n"
   ]
  },
  {
   "cell_type": "code",
   "execution_count": 14,
   "metadata": {},
   "outputs": [
    {
     "data": {
      "text/html": [
       "<div>\n",
       "<style scoped>\n",
       "    .dataframe tbody tr th:only-of-type {\n",
       "        vertical-align: middle;\n",
       "    }\n",
       "\n",
       "    .dataframe tbody tr th {\n",
       "        vertical-align: top;\n",
       "    }\n",
       "\n",
       "    .dataframe thead th {\n",
       "        text-align: right;\n",
       "    }\n",
       "</style>\n",
       "<table border=\"1\" class=\"dataframe\">\n",
       "  <thead>\n",
       "    <tr style=\"text-align: right;\">\n",
       "      <th></th>\n",
       "      <th>0</th>\n",
       "      <th>1</th>\n",
       "      <th>2</th>\n",
       "      <th>3</th>\n",
       "    </tr>\n",
       "  </thead>\n",
       "  <tbody>\n",
       "    <tr>\n",
       "      <th>0</th>\n",
       "      <td>send_out.dbo.MN_DATA_YTN_NEW</td>\n",
       "      <td>平台名称</td>\n",
       "      <td>店铺类型</td>\n",
       "      <td>('天猫', 'sirwhiston旗舰店', 2)</td>\n",
       "    </tr>\n",
       "    <tr>\n",
       "      <th>1</th>\n",
       "      <td>send_out.dbo.MN_DATA_YTN_NEW</td>\n",
       "      <td>产品名称</td>\n",
       "      <td>品类</td>\n",
       "      <td>('红原 a2酪蛋白 有机纯耗牛奶 250ml*8', 2)</td>\n",
       "    </tr>\n",
       "    <tr>\n",
       "      <th>2</th>\n",
       "      <td>send_out.dbo.MN_DATA_YTN_NEW</td>\n",
       "      <td>产品名称</td>\n",
       "      <td>包装类型</td>\n",
       "      <td>('伊利 金典 纯牛奶 250ml*12', 2)</td>\n",
       "    </tr>\n",
       "    <tr>\n",
       "      <th>3</th>\n",
       "      <td>send_out.dbo.MN_DATA_YTN_NEW</td>\n",
       "      <td>产品名称</td>\n",
       "      <td>是否有机</td>\n",
       "      <td>('卓牧 卓小牧 有机儿童羊奶 200ml*16', 2)</td>\n",
       "    </tr>\n",
       "    <tr>\n",
       "      <th>4</th>\n",
       "      <td>send_out.dbo.MN_DATA_YTN_NEW</td>\n",
       "      <td>产品名称</td>\n",
       "      <td>包装形式</td>\n",
       "      <td>('活益每日 乳酸菌饮品 110ml*10', 2)</td>\n",
       "    </tr>\n",
       "    <tr>\n",
       "      <th>5</th>\n",
       "      <td>send_out.dbo.MN_DATA_DIWENrsj_NEW</td>\n",
       "      <td>PLATFORM_NAME</td>\n",
       "      <td>CATEGORY_ST</td>\n",
       "      <td>('天猫', '饮乐多旗舰店', 2)</td>\n",
       "    </tr>\n",
       "    <tr>\n",
       "      <th>6</th>\n",
       "      <td>send_out.dbo.MN_DATA_DIWENSUAN_NEW</td>\n",
       "      <td>PLATFORM_NAME</td>\n",
       "      <td>CATEGORY_ST</td>\n",
       "      <td>('天猫', '养力食品旗舰店', 2)</td>\n",
       "    </tr>\n",
       "    <tr>\n",
       "      <th>7</th>\n",
       "      <td>send_out.dbo.MN_DATA_DIWENxian_NEW</td>\n",
       "      <td>PLATFORM_NAME</td>\n",
       "      <td>CATEGORY_ST</td>\n",
       "      <td>('京东', '花花牛低温奶旗舰店', 2)</td>\n",
       "    </tr>\n",
       "  </tbody>\n",
       "</table>\n",
       "</div>"
      ],
      "text/plain": [
       "                                    0              1            2  \\\n",
       "0        send_out.dbo.MN_DATA_YTN_NEW           平台名称         店铺类型   \n",
       "1        send_out.dbo.MN_DATA_YTN_NEW           产品名称           品类   \n",
       "2        send_out.dbo.MN_DATA_YTN_NEW           产品名称         包装类型   \n",
       "3        send_out.dbo.MN_DATA_YTN_NEW           产品名称         是否有机   \n",
       "4        send_out.dbo.MN_DATA_YTN_NEW           产品名称         包装形式   \n",
       "5   send_out.dbo.MN_DATA_DIWENrsj_NEW  PLATFORM_NAME  CATEGORY_ST   \n",
       "6  send_out.dbo.MN_DATA_DIWENSUAN_NEW  PLATFORM_NAME  CATEGORY_ST   \n",
       "7  send_out.dbo.MN_DATA_DIWENxian_NEW  PLATFORM_NAME  CATEGORY_ST   \n",
       "\n",
       "                                3  \n",
       "0      ('天猫', 'sirwhiston旗舰店', 2)  \n",
       "1  ('红原 a2酪蛋白 有机纯耗牛奶 250ml*8', 2)  \n",
       "2       ('伊利 金典 纯牛奶 250ml*12', 2)  \n",
       "3   ('卓牧 卓小牧 有机儿童羊奶 200ml*16', 2)  \n",
       "4      ('活益每日 乳酸菌饮品 110ml*10', 2)  \n",
       "5             ('天猫', '饮乐多旗舰店', 2)  \n",
       "6            ('天猫', '养力食品旗舰店', 2)  \n",
       "7          ('京东', '花花牛低温奶旗舰店', 2)  "
      ]
     },
     "execution_count": 14,
     "metadata": {},
     "output_type": "execute_result"
    }
   ],
   "source": [
    "list1['lg'].str.split('|',expand=True)"
   ]
  },
  {
   "cell_type": "code",
   "execution_count": 15,
   "metadata": {},
   "outputs": [
    {
     "name": "stdout",
     "output_type": "stream",
     "text": [
      "正在存放至 [结果] 📁\n",
      "程序运行时间：1056秒\n"
     ]
    },
    {
     "data": {
      "text/plain": [
       "''"
      ]
     },
     "execution_count": 15,
     "metadata": {},
     "output_type": "execute_result"
    }
   ],
   "source": [
    "\n",
    "import os\n",
    "def mkdir(path):\n",
    "        folder = os.path.exists(path)\n",
    "        if not folder:    \n",
    "                os.makedirs(path)            #makedirs 创建文件时如果路径不存在会创建这个路径\n",
    "                print('检测无结果文件夹,程序将自动创建 📁')#判断是否存在文件夹如果不存在则创建为文件夹\n",
    "        else:\n",
    "                print('正在存放至 [结果] 📁')\n",
    "                pass\n",
    "mkdir('结果')\n",
    "\n",
    "list1['lg'].str.split('|',expand=True).to_excel(f\"结果/{kehu}yiduiduo.xlsx\")\n",
    "\n",
    "end  = datetime.datetime.now()\n",
    "print(\"程序运行时间：\"+str((end-start).seconds)+\"秒\")\n",
    "\n",
    "input('文件已输出,请到 [结果] 文件下获取')\n"
   ]
  }
 ],
 "metadata": {
  "kernelspec": {
   "display_name": "Python 3.8.8 ('base')",
   "language": "python",
   "name": "python3"
  },
  "language_info": {
   "codemirror_mode": {
    "name": "ipython",
    "version": 3
   },
   "file_extension": ".py",
   "mimetype": "text/x-python",
   "name": "python",
   "nbconvert_exporter": "python",
   "pygments_lexer": "ipython3",
   "version": "3.8.8"
  },
  "orig_nbformat": 4,
  "vscode": {
   "interpreter": {
    "hash": "4810d97fa69c774a27ea716517d3de77cd5994d35ed24e3e258d8e9f36d09c6b"
   }
  }
 },
 "nbformat": 4,
 "nbformat_minor": 2
}

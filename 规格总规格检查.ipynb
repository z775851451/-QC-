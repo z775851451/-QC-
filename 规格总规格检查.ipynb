{
 "cells": [
  {
   "cell_type": "code",
   "execution_count": 1,
   "metadata": {},
   "outputs": [],
   "source": [
    "# coding=utf-8\n",
    "# import _scproxy\n",
    "import numpy as np\n",
    "import pandas as pd\n",
    "import re\n",
    "import pymssql\n",
    "import datetime\n",
    "import warnings\n",
    "warnings.filterwarnings(\"ignore\")\n",
    "\n",
    "def is_number(s):\n",
    "    try:\n",
    "        float(s)\n",
    "        return True\n",
    "    except ValueError:\n",
    "        pass\n",
    "    try:\n",
    "        import unicodedata\n",
    "        unicodedata.numeric(s)\n",
    "        return True\n",
    "    except (TypeError, ValueError):\n",
    "        pass\n",
    "    return False\n",
    "mssql = pymssql.connect ('192.168.0.15', 'zhongxin_yanfa', 'Xin_yanfa', 'info')\n",
    "cs0 = mssql.cursor()\n",
    "start  = datetime.datetime.now()\n",
    "\n",
    "\n",
    "from tqdm import tqdm\n",
    "from time import sleep\n",
    "\n",
    "import os\n",
    "def mkdir(path):\n",
    "        folder = os.path.exists(path)\n",
    "        if not folder:    \n",
    "                os.makedirs(path)            #makedirs 创建文件时如果路径不存在会创建这个路径\n",
    "                print('检测无 [模版] 文件夹,程序将自动创建,请将模版( 客户规格套装数判断.xlsx )放置到此处')#判断是否存在文件夹如果不存在则创建为文件夹\n",
    "                input('放置后确认将运行')\n",
    "        else:\n",
    "                # print('正在存放至 [模版] 📁')\n",
    "                pass\n",
    "mkdir('模版')\n",
    "\n",
    "\n",
    "\n",
    "\n",
    "namegz = pd.read_excel(r'模版/客户规格套装数判断.xlsx',sheet_name=['数据库及字段名'])\n",
    "kehudf = namegz['数据库及字段名']\n",
    "paochu_group1 = []\n",
    "yichang_group1= []\n",
    "a_li=[]"
   ]
  },
  {
   "cell_type": "code",
   "execution_count": 3,
   "metadata": {},
   "outputs": [
    {
     "name": "stderr",
     "output_type": "stream",
     "text": [
      "  0%|          | 0/48 [00:00<?, ?it/s]"
     ]
    },
    {
     "name": "stdout",
     "output_type": "stream",
     "text": [
      "Account= 0 ['[info].[dbo].[solid_milk_based_snacks_1097]', '是', 'product_name', '单位规格', '套装数', '规格数', '品牌']\n"
     ]
    },
    {
     "name": "stderr",
     "output_type": "stream",
     "text": [
      "  2%|▏         | 1/48 [00:02<01:36,  2.05s/it]"
     ]
    },
    {
     "name": "stdout",
     "output_type": "stream",
     "text": [
      "'单规格是否带单位1'\n",
      "SELECT distinct cast(product_name as NVARCHAR(1000)) 产品名称,cast(单位规格 as NVARCHAR(1000)) 单位包装规格, cast(套装数 as float(1)) 套装数,cast(规格数 as float(1))  规格数,cast(品牌 as NVARCHAR(1000)) 制造商 from [info].[dbo].[solid_milk_based_snacks_1097]  \n",
      "Account= 1 ['item.dbo.mn_data_ytn_new', '是', '产品名称', '单位包装规格', '套装数', '总规格', '制造商']\n"
     ]
    },
    {
     "name": "stderr",
     "output_type": "stream",
     "text": [
      "  4%|▍         | 2/48 [00:05<02:17,  2.98s/it]"
     ]
    },
    {
     "name": "stdout",
     "output_type": "stream",
     "text": [
      "'单规格是否带单位1'\n",
      "SELECT distinct cast(产品名称 as NVARCHAR(1000)) 产品名称,cast(单位包装规格 as NVARCHAR(1000)) 单位包装规格, cast(套装数 as float(1)) 套装数,cast(总规格 as float(1))  规格数,cast(制造商 as NVARCHAR(1000)) 制造商 from item.dbo.mn_data_ytn_new  \n",
      "Account= 2 ['info.dbo.yili_milk_info_all', '是', '标准名称', '单位包装规格', '套装数', '规格数', '制造商']\n"
     ]
    },
    {
     "name": "stderr",
     "output_type": "stream",
     "text": [
      "  6%|▋         | 3/48 [00:06<01:37,  2.17s/it]"
     ]
    },
    {
     "name": "stdout",
     "output_type": "stream",
     "text": [
      "'单规格是否带单位1'\n",
      "SELECT distinct cast(标准名称 as NVARCHAR(1000)) 产品名称,cast(单位包装规格 as NVARCHAR(1000)) 单位包装规格, cast(套装数 as float(1)) 套装数,cast(规格数 as float(1))  规格数,cast(制造商 as NVARCHAR(1000)) 制造商 from info.dbo.yili_milk_info_all  \n",
      "Account= 3 ['info.dbo.yili_info_all_new', '是', '标准名称', '单位规格', '套装数', '规格数', '制造商']\n"
     ]
    },
    {
     "name": "stderr",
     "output_type": "stream",
     "text": [
      "  8%|▊         | 4/48 [00:10<01:56,  2.65s/it]"
     ]
    },
    {
     "name": "stdout",
     "output_type": "stream",
     "text": [
      "'单规格是否带单位1'\n",
      "SELECT distinct cast(标准名称 as NVARCHAR(1000)) 产品名称,cast(单位规格 as NVARCHAR(1000)) 单位包装规格, cast(套装数 as float(1)) 套装数,cast(规格数 as float(1))  规格数,cast(制造商 as NVARCHAR(1000)) 制造商 from info.dbo.yili_info_all_new  \n",
      "Account= 4 ['info.dbo.shuiyin', '是', '新标准名称', '毫升数', '总包数', '总毫升数', '制造商']\n"
     ]
    },
    {
     "name": "stderr",
     "output_type": "stream",
     "text": [
      " 10%|█         | 5/48 [00:19<03:29,  4.87s/it]"
     ]
    },
    {
     "name": "stdout",
     "output_type": "stream",
     "text": [
      "'单规格是否带单位1'\n",
      "SELECT distinct cast(新标准名称 as NVARCHAR(1000)) 产品名称,cast(毫升数 as NVARCHAR(1000)) 单位包装规格, cast(总包数 as float(1)) 套装数,cast(总毫升数 as float(1))  规格数,cast(制造商 as NVARCHAR(1000)) 制造商 from info.dbo.shuiyin  \n",
      "Account= 5 ['info.dbo.yili_ice_757', '是', 'new_product_name', '单位规格', '套装数', '规格数', '制造商']\n"
     ]
    },
    {
     "name": "stderr",
     "output_type": "stream",
     "text": [
      " 12%|█▎        | 6/48 [00:21<02:49,  4.04s/it]"
     ]
    },
    {
     "name": "stdout",
     "output_type": "stream",
     "text": [
      "'单规格是否带单位1'\n",
      "SELECT distinct cast(new_product_name as NVARCHAR(1000)) 产品名称,cast(单位规格 as NVARCHAR(1000)) 单位包装规格, cast(套装数 as float(1)) 套装数,cast(规格数 as float(1))  规格数,cast(制造商 as NVARCHAR(1000)) 制造商 from info.dbo.yili_ice_757  \n",
      "Account= 6 ['[send_out].[dbo].[yili_data_water_e_month_new]', '否', '[产品名称]', '[单规格]', '[套装数]', '[总规格]', '制造商']\n"
     ]
    },
    {
     "name": "stderr",
     "output_type": "stream",
     "text": [
      " 15%|█▍        | 7/48 [00:22<01:58,  2.88s/it]"
     ]
    },
    {
     "name": "stdout",
     "output_type": "stream",
     "text": [
      "'单规格是否带单位1'\n",
      "SELECT distinct cast([产品名称] as NVARCHAR(1000)) 产品名称,cast([单规格] as NVARCHAR(1000)) 单位包装规格, cast([套装数] as float(1)) 套装数,cast([总规格] as float(1))  规格数,cast(制造商 as NVARCHAR(1000)) 制造商 from [send_out].[dbo].[yili_data_water_e_month_new]  \n",
      "Account= 7 ['send_out.dbo.YILI_DATA_BINGPIN_E_MONTH_NEW', '否', 'D_P_PRODUCTNAME', 'D_P_UNITGAUGE', 'D_P_PACKAGEQUANTITY', 'D_P_TOTALGAUGE', 'D_P_MANUFACTURE']\n"
     ]
    },
    {
     "name": "stderr",
     "output_type": "stream",
     "text": [
      " 17%|█▋        | 8/48 [00:23<01:37,  2.44s/it]"
     ]
    },
    {
     "name": "stdout",
     "output_type": "stream",
     "text": [
      "'单规格是否带单位1'\n",
      "SELECT distinct cast(D_P_PRODUCTNAME as NVARCHAR(1000)) 产品名称,cast(D_P_UNITGAUGE as NVARCHAR(1000)) 单位包装规格, cast(D_P_PACKAGEQUANTITY as float(1)) 套装数,cast(D_P_TOTALGAUGE as float(1))  规格数,cast(D_P_MANUFACTURE as NVARCHAR(1000)) 制造商 from send_out.dbo.YILI_DATA_BINGPIN_E_MONTH_NEW  \n",
      "Account= 8 ['send_out.dbo.YILI_DATA_YTN_E_MONTH_NEW', '否', 'D_P_PRODUCTNAME', 'D_P_UNITGAUGE', 'D_P_PACKAGEQUANTITY', 'D_P_TOTALGAUGE', 'D_P_MANUFACTURE']\n"
     ]
    },
    {
     "name": "stderr",
     "output_type": "stream",
     "text": [
      " 19%|█▉        | 9/48 [00:26<01:44,  2.67s/it]"
     ]
    },
    {
     "name": "stdout",
     "output_type": "stream",
     "text": [
      "'单规格是否带单位1'\n",
      "SELECT distinct cast(D_P_PRODUCTNAME as NVARCHAR(1000)) 产品名称,cast(D_P_UNITGAUGE as NVARCHAR(1000)) 单位包装规格, cast(D_P_PACKAGEQUANTITY as float(1)) 套装数,cast(D_P_TOTALGAUGE as float(1))  规格数,cast(D_P_MANUFACTURE as NVARCHAR(1000)) 制造商 from send_out.dbo.YILI_DATA_YTN_E_MONTH_NEW  \n",
      "Account= 9 ['send_out.dbo.YILI_DATA_DIWEN_suan_E_MONTH_NEW', '否', 'D_P_PRODUCTNAME', 'D_P_UNITGAUGE', 'D_P_PACKAGEQUANTITY', 'D_P_TOTALGAUGE', 'D_P_MANUFACTURE']\n"
     ]
    },
    {
     "name": "stderr",
     "output_type": "stream",
     "text": [
      " 23%|██▎       | 11/48 [00:27<00:54,  1.48s/it]"
     ]
    },
    {
     "name": "stdout",
     "output_type": "stream",
     "text": [
      "'单规格是否带单位1'\n",
      "SELECT distinct cast(D_P_PRODUCTNAME as NVARCHAR(1000)) 产品名称,cast(D_P_UNITGAUGE as NVARCHAR(1000)) 单位包装规格, cast(D_P_PACKAGEQUANTITY as float(1)) 套装数,cast(D_P_TOTALGAUGE as float(1))  规格数,cast(D_P_MANUFACTURE as NVARCHAR(1000)) 制造商 from send_out.dbo.YILI_DATA_DIWEN_suan_E_MONTH_NEW  \n",
      "Account= 10 ['send_out.dbo.YILI_DATA_DIWEN_xian_E_MONTH_NEW', '否', 'D_P_PRODUCTNAME', 'D_P_UNITGAUGE', 'D_P_PACKAGEQUANTITY', 'D_P_TOTALGAUGE', 'D_P_MANUFACTURE']\n",
      "'单规格是否带单位1'\n",
      "SELECT distinct cast(D_P_PRODUCTNAME as NVARCHAR(1000)) 产品名称,cast(D_P_UNITGAUGE as NVARCHAR(1000)) 单位包装规格, cast(D_P_PACKAGEQUANTITY as float(1)) 套装数,cast(D_P_TOTALGAUGE as float(1))  规格数,cast(D_P_MANUFACTURE as NVARCHAR(1000)) 制造商 from send_out.dbo.YILI_DATA_DIWEN_xian_E_MONTH_NEW  \n",
      "Account= 11 ['send_out.dbo.YILI_DATA_NAIYOU_E_MONTH_NEW', '否', 'D_P_PRODUCTNAME', 'D_P_UNITGAUGE', 'D_P_PACKAGEQUANTITY', 'D_P_TOTALGAUGE', 'D_P_MANUFACTURE']\n"
     ]
    },
    {
     "name": "stderr",
     "output_type": "stream",
     "text": [
      " 25%|██▌       | 12/48 [00:28<00:46,  1.28s/it]"
     ]
    },
    {
     "name": "stdout",
     "output_type": "stream",
     "text": [
      "'单规格是否带单位1'\n",
      "SELECT distinct cast(D_P_PRODUCTNAME as NVARCHAR(1000)) 产品名称,cast(D_P_UNITGAUGE as NVARCHAR(1000)) 单位包装规格, cast(D_P_PACKAGEQUANTITY as float(1)) 套装数,cast(D_P_TOTALGAUGE as float(1))  规格数,cast(D_P_MANUFACTURE as NVARCHAR(1000)) 制造商 from send_out.dbo.YILI_DATA_NAIYOU_E_MONTH_NEW  \n",
      "Account= 12 ['info.dbo.oatmeal_724', '是', '新标准名称', '单位规格', '套装数', '规格数', '制造商']\n"
     ]
    },
    {
     "name": "stderr",
     "output_type": "stream",
     "text": [
      " 27%|██▋       | 13/48 [00:30<00:58,  1.67s/it]"
     ]
    },
    {
     "name": "stdout",
     "output_type": "stream",
     "text": [
      "'单规格是否带单位1'\n",
      "SELECT distinct cast(新标准名称 as NVARCHAR(1000)) 产品名称,cast(单位规格 as NVARCHAR(1000)) 单位包装规格, cast(套装数 as float(1)) 套装数,cast(规格数 as float(1))  规格数,cast(制造商 as NVARCHAR(1000)) 制造商 from info.dbo.oatmeal_724  \n",
      "Account= 13 ['info.dbo.百事可乐_shuiyin', '否', '新标准名称', '毫升数去掉标签', '总包数', '总毫升数', '制造商']\n"
     ]
    },
    {
     "name": "stderr",
     "output_type": "stream",
     "text": [
      " 29%|██▉       | 14/48 [00:32<00:58,  1.72s/it]"
     ]
    },
    {
     "name": "stdout",
     "output_type": "stream",
     "text": [
      "'单规格是否带单位1'\n",
      "SELECT distinct cast(新标准名称 as NVARCHAR(1000)) 产品名称,cast(毫升数去掉标签 as NVARCHAR(1000)) 单位包装规格, cast(总包数 as float(1)) 套装数,cast(总毫升数 as float(1))  规格数,cast(制造商 as NVARCHAR(1000)) 制造商 from info.dbo.百事可乐_shuiyin  \n",
      "Account= 14 ['info.dbo.可口可乐_shuiyin', '否', '新标准名称', '毫升数去掉标签', '总包数', '总毫升数', '制造商']\n"
     ]
    },
    {
     "name": "stderr",
     "output_type": "stream",
     "text": [
      " 31%|███▏      | 15/48 [00:38<01:40,  3.06s/it]"
     ]
    },
    {
     "name": "stdout",
     "output_type": "stream",
     "text": [
      "'单规格是否带单位1'\n",
      "SELECT distinct cast(新标准名称 as NVARCHAR(1000)) 产品名称,cast(毫升数去掉标签 as NVARCHAR(1000)) 单位包装规格, cast(总包数 as float(1)) 套装数,cast(总毫升数 as float(1))  规格数,cast(制造商 as NVARCHAR(1000)) 制造商 from info.dbo.可口可乐_shuiyin  \n",
      "Account= 15 ['info.dbo.红牛_shuiyin', '否', '新标准名称', '毫升数去掉标签', '总包数', '总毫升数', '制造商']\n"
     ]
    },
    {
     "name": "stderr",
     "output_type": "stream",
     "text": [
      " 33%|███▎      | 16/48 [00:40<01:23,  2.60s/it]"
     ]
    },
    {
     "name": "stdout",
     "output_type": "stream",
     "text": [
      "'单规格是否带单位1'\n",
      "SELECT distinct cast(新标准名称 as NVARCHAR(1000)) 产品名称,cast(毫升数去掉标签 as NVARCHAR(1000)) 单位包装规格, cast(总包数 as float(1)) 套装数,cast(总毫升数 as float(1))  规格数,cast(制造商 as NVARCHAR(1000)) 制造商 from info.dbo.红牛_shuiyin  \n",
      "Account= 16 ['info.dbo.维他奶_shuiyin', '否', '新标准名称', '毫升数去掉标签', '总包数', '总毫升数', '制造商']\n"
     ]
    },
    {
     "name": "stderr",
     "output_type": "stream",
     "text": [
      " 35%|███▌      | 17/48 [00:41<01:10,  2.26s/it]"
     ]
    },
    {
     "name": "stdout",
     "output_type": "stream",
     "text": [
      "'单规格是否带单位1'\n",
      "SELECT distinct cast(新标准名称 as NVARCHAR(1000)) 产品名称,cast(毫升数去掉标签 as NVARCHAR(1000)) 单位包装规格, cast(总包数 as float(1)) 套装数,cast(总毫升数 as float(1))  规格数,cast(制造商 as NVARCHAR(1000)) 制造商 from info.dbo.维他奶_shuiyin  \n",
      "Account= 17 ['info.dbo.伊利_shuiyin', '否', '标准名称', '毫升数去掉标签', '总包数', '总毫升数', '制造商']\n"
     ]
    },
    {
     "name": "stderr",
     "output_type": "stream",
     "text": [
      " 38%|███▊      | 18/48 [00:43<00:58,  1.96s/it]"
     ]
    },
    {
     "name": "stdout",
     "output_type": "stream",
     "text": [
      "'单规格是否带单位1'\n",
      "SELECT distinct cast(标准名称 as NVARCHAR(1000)) 产品名称,cast(毫升数去掉标签 as NVARCHAR(1000)) 单位包装规格, cast(总包数 as float(1)) 套装数,cast(总毫升数 as float(1))  规格数,cast(制造商 as NVARCHAR(1000)) 制造商 from info.dbo.伊利_shuiyin  \n",
      "Account= 18 ['info.dbo.Costa_shuiyin', '否', '标准名称', '毫升数去掉标签', '总包数', '总毫升数', '制造商']\n"
     ]
    },
    {
     "name": "stderr",
     "output_type": "stream",
     "text": [
      " 40%|███▉      | 19/48 [00:43<00:44,  1.53s/it]"
     ]
    },
    {
     "name": "stdout",
     "output_type": "stream",
     "text": [
      "'单规格是否带单位1'\n",
      "SELECT distinct cast(标准名称 as NVARCHAR(1000)) 产品名称,cast(毫升数去掉标签 as NVARCHAR(1000)) 单位包装规格, cast(总包数 as float(1)) 套装数,cast(总毫升数 as float(1))  规格数,cast(制造商 as NVARCHAR(1000)) 制造商 from info.dbo.Costa_shuiyin  \n",
      "Account= 19 ['[info].[dbo].[syntun_Infant_milk_powder_593]', '是', '标准名称', '单位包装规格', '套装数', '规格数', '制造商']\n"
     ]
    },
    {
     "name": "stderr",
     "output_type": "stream",
     "text": [
      " 42%|████▏     | 20/48 [00:46<00:50,  1.80s/it]"
     ]
    },
    {
     "name": "stdout",
     "output_type": "stream",
     "text": [
      "'单规格是否带单位1'\n",
      "SELECT distinct cast(标准名称 as NVARCHAR(1000)) 产品名称,cast(单位包装规格 as NVARCHAR(1000)) 单位包装规格, cast(套装数 as float(1)) 套装数,cast(规格数 as float(1))  规格数,cast(制造商 as NVARCHAR(1000)) 制造商 from [info].[dbo].[syntun_Infant_milk_powder_593]  \n",
      "Account= 20 ['[info].[dbo].[YiLi_Infant_milk_powder_593]', '是', '标准名称', '单位包装规格', '套装数', '规格数', '制造商']\n"
     ]
    },
    {
     "name": "stderr",
     "output_type": "stream",
     "text": [
      " 44%|████▍     | 21/48 [00:48<00:52,  1.95s/it]"
     ]
    },
    {
     "name": "stdout",
     "output_type": "stream",
     "text": [
      "'单规格是否带单位1'\n",
      "SELECT distinct cast(标准名称 as NVARCHAR(1000)) 产品名称,cast(单位包装规格 as NVARCHAR(1000)) 单位包装规格, cast(套装数 as float(1)) 套装数,cast(规格数 as float(1))  规格数,cast(制造商 as NVARCHAR(1000)) 制造商 from [info].[dbo].[YiLi_Infant_milk_powder_593]  \n",
      "Account= 21 ['[info].[dbo].[xibao_Infant_milk_powder_593]', '是', '标准名称', '单位包装规格', '套装数', '规格数', '制造商']\n"
     ]
    },
    {
     "name": "stderr",
     "output_type": "stream",
     "text": [
      " 46%|████▌     | 22/48 [00:50<00:53,  2.07s/it]"
     ]
    },
    {
     "name": "stdout",
     "output_type": "stream",
     "text": [
      "'单规格是否带单位1'\n",
      "SELECT distinct cast(标准名称 as NVARCHAR(1000)) 产品名称,cast(单位包装规格 as NVARCHAR(1000)) 单位包装规格, cast(套装数 as float(1)) 套装数,cast(规格数 as float(1))  规格数,cast(制造商 as NVARCHAR(1000)) 制造商 from [info].[dbo].[xibao_Infant_milk_powder_593]  \n",
      "Account= 22 ['[info].[dbo].[安佳基础库_cn]', '是', 'product_name', '单位规格', '套装数', '规格数', '制造商']\n"
     ]
    },
    {
     "name": "stderr",
     "output_type": "stream",
     "text": [
      " 48%|████▊     | 23/48 [00:51<00:38,  1.54s/it]"
     ]
    },
    {
     "name": "stdout",
     "output_type": "stream",
     "text": [
      "'单规格是否带单位1'\n",
      "SELECT distinct cast(product_name as NVARCHAR(1000)) 产品名称,cast(单位规格 as NVARCHAR(1000)) 单位包装规格, cast(套装数 as float(1)) 套装数,cast(规格数 as float(1))  规格数,cast(制造商 as NVARCHAR(1000)) 制造商 from [info].[dbo].[安佳基础库_cn]  \n",
      "Account= 23 ['[info].[dbo].[syntun_milk_info_all]', '是', '新标准名称', '单位包装规格', '套装数', '规格数', '制造商']\n"
     ]
    },
    {
     "name": "stderr",
     "output_type": "stream",
     "text": [
      " 50%|█████     | 24/48 [00:52<00:38,  1.62s/it]"
     ]
    },
    {
     "name": "stdout",
     "output_type": "stream",
     "text": [
      "'单规格是否带单位1'\n",
      "SELECT distinct cast(新标准名称 as NVARCHAR(1000)) 产品名称,cast(单位包装规格 as NVARCHAR(1000)) 单位包装规格, cast(套装数 as float(1)) 套装数,cast(规格数 as float(1))  规格数,cast(制造商 as NVARCHAR(1000)) 制造商 from [info].[dbo].[syntun_milk_info_all]  \n",
      "Account= 24 ['info.[dbo].[yili_milk_info_all]', '是', '标准名称', '单位包装规格', '套装数', '规格数', '制造商']\n"
     ]
    },
    {
     "name": "stderr",
     "output_type": "stream",
     "text": [
      " 52%|█████▏    | 25/48 [00:54<00:34,  1.52s/it]"
     ]
    },
    {
     "name": "stdout",
     "output_type": "stream",
     "text": [
      "'单规格是否带单位1'\n",
      "SELECT distinct cast(标准名称 as NVARCHAR(1000)) 产品名称,cast(单位包装规格 as NVARCHAR(1000)) 单位包装规格, cast(套装数 as float(1)) 套装数,cast(规格数 as float(1))  规格数,cast(制造商 as NVARCHAR(1000)) 制造商 from info.[dbo].[yili_milk_info_all]  \n",
      "Account= 25 ['[info].[dbo].[syntun_cold_milk_640]', '是', '新标准名称', '单位规格', '套装数', '规格数', '制造商']\n"
     ]
    },
    {
     "name": "stderr",
     "output_type": "stream",
     "text": [
      " 54%|█████▍    | 26/48 [00:55<00:34,  1.58s/it]"
     ]
    },
    {
     "name": "stdout",
     "output_type": "stream",
     "text": [
      "'单规格是否带单位1'\n",
      "SELECT distinct cast(新标准名称 as NVARCHAR(1000)) 产品名称,cast(单位规格 as NVARCHAR(1000)) 单位包装规格, cast(套装数 as float(1)) 套装数,cast(规格数 as float(1))  规格数,cast(制造商 as NVARCHAR(1000)) 制造商 from [info].[dbo].[syntun_cold_milk_640]  \n",
      "Account= 26 ['[info].[dbo].[yili_cold_milk_640]', '是', '新标准名称', '单位规格', '套装数', '规格数', '制造商']\n"
     ]
    },
    {
     "name": "stderr",
     "output_type": "stream",
     "text": [
      " 56%|█████▋    | 27/48 [00:57<00:35,  1.68s/it]"
     ]
    },
    {
     "name": "stdout",
     "output_type": "stream",
     "text": [
      "'单规格是否带单位1'\n",
      "SELECT distinct cast(新标准名称 as NVARCHAR(1000)) 产品名称,cast(单位规格 as NVARCHAR(1000)) 单位包装规格, cast(套装数 as float(1)) 套装数,cast(规格数 as float(1))  规格数,cast(制造商 as NVARCHAR(1000)) 制造商 from [info].[dbo].[yili_cold_milk_640]  \n",
      "Account= 27 ['[info].[dbo].[mengniu_cold_milk_640]', '是', '标准名称', '单位规格', '套装数', '规格数', '制造商']\n"
     ]
    },
    {
     "name": "stderr",
     "output_type": "stream",
     "text": [
      " 58%|█████▊    | 28/48 [00:59<00:35,  1.75s/it]"
     ]
    },
    {
     "name": "stdout",
     "output_type": "stream",
     "text": [
      "'单规格是否带单位1'\n",
      "SELECT distinct cast(标准名称 as NVARCHAR(1000)) 产品名称,cast(单位规格 as NVARCHAR(1000)) 单位包装规格, cast(套装数 as float(1)) 套装数,cast(规格数 as float(1))  规格数,cast(制造商 as NVARCHAR(1000)) 制造商 from [info].[dbo].[mengniu_cold_milk_640]  \n",
      "Account= 28 ['[info].[dbo].[syntun_info_all_new]', '是', '标准名称', '单位规格', '套装数', '规格数', '制造商']\n"
     ]
    },
    {
     "name": "stderr",
     "output_type": "stream",
     "text": [
      " 60%|██████    | 29/48 [01:02<00:38,  2.03s/it]"
     ]
    },
    {
     "name": "stdout",
     "output_type": "stream",
     "text": [
      "'单规格是否带单位1'\n",
      "SELECT distinct cast(标准名称 as NVARCHAR(1000)) 产品名称,cast(单位规格 as NVARCHAR(1000)) 单位包装规格, cast(套装数 as float(1)) 套装数,cast(规格数 as float(1))  规格数,cast(制造商 as NVARCHAR(1000)) 制造商 from [info].[dbo].[syntun_info_all_new]  \n",
      "Account= 29 ['[info].[dbo].[yili_info_all_new]', '是', '标准名称', '单位规格', '套装数', '规格数', '制造商']\n"
     ]
    },
    {
     "name": "stderr",
     "output_type": "stream",
     "text": [
      " 62%|██████▎   | 30/48 [01:05<00:40,  2.28s/it]"
     ]
    },
    {
     "name": "stdout",
     "output_type": "stream",
     "text": [
      "'单规格是否带单位1'\n",
      "SELECT distinct cast(标准名称 as NVARCHAR(1000)) 产品名称,cast(单位规格 as NVARCHAR(1000)) 单位包装规格, cast(套装数 as float(1)) 套装数,cast(规格数 as float(1))  规格数,cast(制造商 as NVARCHAR(1000)) 制造商 from [info].[dbo].[yili_info_all_new]  \n",
      "Account= 30 ['[info].[dbo].[vita_info_all_new]', '是', '标准名称', '单位规格', '套装数', '规格数', '制造商']\n"
     ]
    },
    {
     "name": "stderr",
     "output_type": "stream",
     "text": [
      " 65%|██████▍   | 31/48 [01:06<00:31,  1.85s/it]"
     ]
    },
    {
     "name": "stdout",
     "output_type": "stream",
     "text": [
      "'单规格是否带单位1'\n",
      "SELECT distinct cast(标准名称 as NVARCHAR(1000)) 产品名称,cast(单位规格 as NVARCHAR(1000)) 单位包装规格, cast(套装数 as float(1)) 套装数,cast(规格数 as float(1))  规格数,cast(制造商 as NVARCHAR(1000)) 制造商 from [info].[dbo].[vita_info_all_new]  \n",
      "Account= 31 ['[info].[dbo].[mengniu_info_all_new]', '是', '新标准名称', '单位规格', '套装数', '规格数', '制造商']\n"
     ]
    },
    {
     "name": "stderr",
     "output_type": "stream",
     "text": [
      " 69%|██████▉   | 33/48 [01:08<00:20,  1.37s/it]"
     ]
    },
    {
     "name": "stdout",
     "output_type": "stream",
     "text": [
      "'单规格是否带单位1'\n",
      "SELECT distinct cast(新标准名称 as NVARCHAR(1000)) 产品名称,cast(单位规格 as NVARCHAR(1000)) 单位包装规格, cast(套装数 as float(1)) 套装数,cast(规格数 as float(1))  规格数,cast(制造商 as NVARCHAR(1000)) 制造商 from [info].[dbo].[mengniu_info_all_new]  \n",
      "Account= 32 ['[info].[dbo].[安佳基础库]', '是', 'syntun_name', '单位规格', '套装数', '规格数', '制造商']\n",
      "'单规格是否带单位1'\n",
      "SELECT distinct cast(syntun_name as NVARCHAR(1000)) 产品名称,cast(单位规格 as NVARCHAR(1000)) 单位包装规格, cast(套装数 as float(1)) 套装数,cast(规格数 as float(1))  规格数,cast(制造商 as NVARCHAR(1000)) 制造商 from [info].[dbo].[安佳基础库]  \n",
      "Account= 33 ['[info].[dbo].[syntun_Ice_757]', '是', '标准名称', '单位规格', '套装数', '规格数', '制造商']\n"
     ]
    },
    {
     "name": "stderr",
     "output_type": "stream",
     "text": [
      " 71%|███████   | 34/48 [01:10<00:23,  1.70s/it]"
     ]
    },
    {
     "name": "stdout",
     "output_type": "stream",
     "text": [
      "'单规格是否带单位1'\n",
      "SELECT distinct cast(标准名称 as NVARCHAR(1000)) 产品名称,cast(单位规格 as NVARCHAR(1000)) 单位包装规格, cast(套装数 as float(1)) 套装数,cast(规格数 as float(1))  规格数,cast(制造商 as NVARCHAR(1000)) 制造商 from [info].[dbo].[syntun_Ice_757]  \n",
      "Account= 34 ['[info].[dbo].[yili_Ice_757]', '是', 'new_product_name', '单位规格', '套装数', '规格数', '制造商']\n"
     ]
    },
    {
     "name": "stderr",
     "output_type": "stream",
     "text": [
      " 73%|███████▎  | 35/48 [01:13<00:25,  1.94s/it]"
     ]
    },
    {
     "name": "stdout",
     "output_type": "stream",
     "text": [
      "'单规格是否带单位1'\n",
      "SELECT distinct cast(new_product_name as NVARCHAR(1000)) 产品名称,cast(单位规格 as NVARCHAR(1000)) 单位包装规格, cast(套装数 as float(1)) 套装数,cast(规格数 as float(1))  规格数,cast(制造商 as NVARCHAR(1000)) 制造商 from [info].[dbo].[yili_Ice_757]  \n",
      "Account= 35 ['[info].[dbo].[syntun_cream_600]', '是', '新标准名称', '单位规格', '套装数', '规格数', '品牌']\n"
     ]
    },
    {
     "name": "stderr",
     "output_type": "stream",
     "text": [
      " 75%|███████▌  | 36/48 [01:14<00:21,  1.78s/it]"
     ]
    },
    {
     "name": "stdout",
     "output_type": "stream",
     "text": [
      "'单规格是否带单位1'\n",
      "SELECT distinct cast(新标准名称 as NVARCHAR(1000)) 产品名称,cast(单位规格 as NVARCHAR(1000)) 单位包装规格, cast(套装数 as float(1)) 套装数,cast(规格数 as float(1))  规格数,cast(品牌 as NVARCHAR(1000)) 制造商 from [info].[dbo].[syntun_cream_600]  \n",
      "Account= 36 ['[info].[dbo].[yili_cheese_765]', '否', '新标准名称', '单位规格', '套装数', '规格数', '品牌']\n"
     ]
    },
    {
     "name": "stderr",
     "output_type": "stream",
     "text": [
      " 77%|███████▋  | 37/48 [01:15<00:17,  1.57s/it]"
     ]
    },
    {
     "name": "stdout",
     "output_type": "stream",
     "text": [
      "'单规格是否带单位1'\n",
      "SELECT distinct cast(新标准名称 as NVARCHAR(1000)) 产品名称,cast(单位规格 as NVARCHAR(1000)) 单位包装规格, cast(套装数 as float(1)) 套装数,cast(规格数 as float(1))  规格数,cast(品牌 as NVARCHAR(1000)) 制造商 from [info].[dbo].[yili_cheese_765]  \n",
      "Account= 37 ['[info].[dbo].[安佳_cheese_765]', '否', '新标准名称', '单位规格', '套装数', '规格数', '品牌']\n"
     ]
    },
    {
     "name": "stderr",
     "output_type": "stream",
     "text": [
      " 81%|████████▏ | 39/48 [01:16<00:09,  1.03s/it]"
     ]
    },
    {
     "name": "stdout",
     "output_type": "stream",
     "text": [
      "'单规格是否带单位1'\n",
      "SELECT distinct cast(新标准名称 as NVARCHAR(1000)) 产品名称,cast(单位规格 as NVARCHAR(1000)) 单位包装规格, cast(套装数 as float(1)) 套装数,cast(规格数 as float(1))  规格数,cast(品牌 as NVARCHAR(1000)) 制造商 from [info].[dbo].[安佳_cheese_765]  \n",
      "Account= 38 ['[info].[dbo].[安佳基础库_hy]', '否', '新标准名称', '单位规格', '套装数', '规格数', '品牌']\n",
      "'单规格是否带单位1'\n",
      "SELECT distinct cast(新标准名称 as NVARCHAR(1000)) 产品名称,cast(单位规格 as NVARCHAR(1000)) 单位包装规格, cast(套装数 as float(1)) 套装数,cast(规格数 as float(1))  规格数,cast(品牌 as NVARCHAR(1000)) 制造商 from [info].[dbo].[安佳基础库_hy]  \n",
      "Account= 39 ['[send_out].[dbo].[MN_DATA_DIWENsuan_NEW]', '否', '标准名称', '单位包装规格', '套装数', '规格数', '品牌']\n"
     ]
    },
    {
     "name": "stderr",
     "output_type": "stream",
     "text": [
      " 83%|████████▎ | 40/48 [01:17<00:07,  1.09it/s]"
     ]
    },
    {
     "name": "stdout",
     "output_type": "stream",
     "text": [
      "'单规格是否带单位1'\n",
      "SELECT distinct cast(标准名称 as NVARCHAR(1000)) 产品名称,cast(单位包装规格 as NVARCHAR(1000)) 单位包装规格, cast(套装数 as float(1)) 套装数,cast(规格数 as float(1))  规格数,cast(品牌 as NVARCHAR(1000)) 制造商 from [send_out].[dbo].[MN_DATA_DIWENsuan_NEW]  \n",
      "Account= 40 ['[send_out].[dbo].[MN_DATA_DIWENrsj_NEW]', '否', '标准名称', '单位包装规格', '套装数', '规格数', '品牌']\n"
     ]
    },
    {
     "name": "stderr",
     "output_type": "stream",
     "text": [
      " 88%|████████▊ | 42/48 [01:17<00:03,  1.82it/s]"
     ]
    },
    {
     "name": "stdout",
     "output_type": "stream",
     "text": [
      "'单规格是否带单位1'\n",
      "SELECT distinct cast(标准名称 as NVARCHAR(1000)) 产品名称,cast(单位包装规格 as NVARCHAR(1000)) 单位包装规格, cast(套装数 as float(1)) 套装数,cast(规格数 as float(1))  规格数,cast(品牌 as NVARCHAR(1000)) 制造商 from [send_out].[dbo].[MN_DATA_DIWENrsj_NEW]  \n",
      "Account= 41 ['[send_out].[dbo].[MN_DATA_DIWENxian_NEW]', '否', '标准名称', '单位包装规格', '套装数', '规格数', '品牌']\n",
      "'单规格是否带单位1'\n",
      "SELECT distinct cast(标准名称 as NVARCHAR(1000)) 产品名称,cast(单位包装规格 as NVARCHAR(1000)) 单位包装规格, cast(套装数 as float(1)) 套装数,cast(规格数 as float(1))  规格数,cast(品牌 as NVARCHAR(1000)) 制造商 from [send_out].[dbo].[MN_DATA_DIWENxian_NEW]  \n",
      "Account= 42 ['[send_out].[dbo].[YASHILY_DATA_594_NEW]', '否', '产品名称', '单位包装去单位', '套装数', '规格数', '制造商']\n"
     ]
    },
    {
     "name": "stderr",
     "output_type": "stream",
     "text": [
      " 90%|████████▉ | 43/48 [01:18<00:02,  1.98it/s]"
     ]
    },
    {
     "name": "stdout",
     "output_type": "stream",
     "text": [
      "'单规格是否带单位1'\n",
      "SELECT distinct cast(产品名称 as NVARCHAR(1000)) 产品名称,cast(单位包装去单位 as NVARCHAR(1000)) 单位包装规格, cast(套装数 as float(1)) 套装数,cast(规格数 as float(1))  规格数,cast(制造商 as NVARCHAR(1000)) 制造商 from [send_out].[dbo].[YASHILY_DATA_594_NEW]  \n",
      "Account= 43 ['[send_out].[dbo].[REDBULL_DATA_NEW]', '否', '产品名称', '单规格', '套装数', '规格数', '制造商']\n"
     ]
    },
    {
     "name": "stderr",
     "output_type": "stream",
     "text": [
      " 92%|█████████▏| 44/48 [01:19<00:02,  1.66it/s]"
     ]
    },
    {
     "name": "stdout",
     "output_type": "stream",
     "text": [
      "'单规格是否带单位1'\n",
      "SELECT distinct cast(产品名称 as NVARCHAR(1000)) 产品名称,cast(单规格 as NVARCHAR(1000)) 单位包装规格, cast(套装数 as float(1)) 套装数,cast(规格数 as float(1))  规格数,cast(制造商 as NVARCHAR(1000)) 制造商 from [send_out].[dbo].[REDBULL_DATA_NEW]  \n",
      "Account= 44 ['send_out.dbo.BAISHI_COKE_E_NEW', '否', 'D_P_PRODUCTNAME', 'D_P_UNITGAUGE', 'D_P_PACKINGQUANTITY', 'D_P_TOTALGAUGE', 'D_P_MANUFACTURE']\n"
     ]
    },
    {
     "name": "stderr",
     "output_type": "stream",
     "text": [
      " 94%|█████████▍| 45/48 [01:21<00:03,  1.03s/it]"
     ]
    },
    {
     "name": "stdout",
     "output_type": "stream",
     "text": [
      "'单规格是否带单位1'\n",
      "SELECT distinct cast(D_P_PRODUCTNAME as NVARCHAR(1000)) 产品名称,cast(D_P_UNITGAUGE as NVARCHAR(1000)) 单位包装规格, cast(D_P_PACKINGQUANTITY as float(1)) 套装数,cast(D_P_TOTALGAUGE as float(1))  规格数,cast(D_P_MANUFACTURE as NVARCHAR(1000)) 制造商 from send_out.dbo.BAISHI_COKE_E_NEW  \n",
      "Account= 45 ['send_out.dbo.JIALESHI_DATA_MAIPIAN_E_NEW', '是', '产品名称', '单位规格', '套装数', '规格数', '制造商']\n"
     ]
    },
    {
     "name": "stderr",
     "output_type": "stream",
     "text": [
      " 96%|█████████▌| 46/48 [01:22<00:01,  1.03it/s]"
     ]
    },
    {
     "name": "stdout",
     "output_type": "stream",
     "text": [
      "'单规格是否带单位1'\n",
      "SELECT distinct cast(产品名称 as NVARCHAR(1000)) 产品名称,cast(单位规格 as NVARCHAR(1000)) 单位包装规格, cast(套装数 as float(1)) 套装数,cast(规格数 as float(1))  规格数,cast(制造商 as NVARCHAR(1000)) 制造商 from send_out.dbo.JIALESHI_DATA_MAIPIAN_E_NEW  \n",
      "Account= 46 ['item.dbo.kashi_data_new', '否', '产品名称', '单位规格数', '套装数', '规格数', '制造商']\n"
     ]
    },
    {
     "name": "stderr",
     "output_type": "stream",
     "text": [
      " 98%|█████████▊| 47/48 [01:22<00:00,  1.16it/s]"
     ]
    },
    {
     "name": "stdout",
     "output_type": "stream",
     "text": [
      "'单规格是否带单位1'\n",
      "SELECT distinct cast(产品名称 as NVARCHAR(1000)) 产品名称,cast(单位规格数 as NVARCHAR(1000)) 单位包装规格, cast(套装数 as float(1)) 套装数,cast(规格数 as float(1))  规格数,cast(制造商 as NVARCHAR(1000)) 制造商 from item.dbo.kashi_data_new  \n",
      "Account= 47 ['item.dbo.quechao_milk_quan_temp', '是', '产品名称', '单位包装规格', '套装数', '规格数', '制造商']\n"
     ]
    },
    {
     "name": "stderr",
     "output_type": "stream",
     "text": [
      "100%|██████████| 48/48 [01:23<00:00,  1.73s/it]"
     ]
    },
    {
     "name": "stdout",
     "output_type": "stream",
     "text": [
      "'单规格是否带单位1'\n",
      "SELECT distinct cast(产品名称 as NVARCHAR(1000)) 产品名称,cast(单位包装规格 as NVARCHAR(1000)) 单位包装规格, cast(套装数 as float(1)) 套装数,cast(规格数 as float(1))  规格数,cast(制造商 as NVARCHAR(1000)) 制造商 from item.dbo.quechao_milk_quan_temp  \n"
     ]
    },
    {
     "name": "stderr",
     "output_type": "stream",
     "text": [
      "\n"
     ]
    },
    {
     "ename": "ValueError",
     "evalue": "No objects to concatenate",
     "output_type": "error",
     "traceback": [
      "\u001b[0;31m---------------------------------------------------------------------------\u001b[0m",
      "\u001b[0;31mValueError\u001b[0m                                Traceback (most recent call last)",
      "\u001b[1;32m/Users/yuanbo/Documents/工作/星图/资料1/客户数据库QC程序及文件/规格总规格检查.ipynb Cell 2\u001b[0m in \u001b[0;36m<cell line: 157>\u001b[0;34m()\u001b[0m\n\u001b[1;32m    <a href='vscode-notebook-cell:/Users/yuanbo/Documents/%E5%B7%A5%E4%BD%9C/%E6%98%9F%E5%9B%BE/%E8%B5%84%E6%96%991/%E5%AE%A2%E6%88%B7%E6%95%B0%E6%8D%AE%E5%BA%93QC%E7%A8%8B%E5%BA%8F%E5%8F%8A%E6%96%87%E4%BB%B6/%E8%A7%84%E6%A0%BC%E6%80%BB%E8%A7%84%E6%A0%BC%E6%A3%80%E6%9F%A5.ipynb#W1sZmlsZQ%3D%3D?line=153'>154</a>\u001b[0m     yichang_group1\u001b[39m.\u001b[39mappend(yichang_group)\n\u001b[1;32m    <a href='vscode-notebook-cell:/Users/yuanbo/Documents/%E5%B7%A5%E4%BD%9C/%E6%98%9F%E5%9B%BE/%E8%B5%84%E6%96%991/%E5%AE%A2%E6%88%B7%E6%95%B0%E6%8D%AE%E5%BA%93QC%E7%A8%8B%E5%BA%8F%E5%8F%8A%E6%96%87%E4%BB%B6/%E8%A7%84%E6%A0%BC%E6%80%BB%E8%A7%84%E6%A0%BC%E6%A3%80%E6%9F%A5.ipynb#W1sZmlsZQ%3D%3D?line=154'>155</a>\u001b[0m     paochu_group1\u001b[39m.\u001b[39mappend(jieguo)\n\u001b[0;32m--> <a href='vscode-notebook-cell:/Users/yuanbo/Documents/%E5%B7%A5%E4%BD%9C/%E6%98%9F%E5%9B%BE/%E8%B5%84%E6%96%991/%E5%AE%A2%E6%88%B7%E6%95%B0%E6%8D%AE%E5%BA%93QC%E7%A8%8B%E5%BA%8F%E5%8F%8A%E6%96%87%E4%BB%B6/%E8%A7%84%E6%A0%BC%E6%80%BB%E8%A7%84%E6%A0%BC%E6%A3%80%E6%9F%A5.ipynb#W1sZmlsZQ%3D%3D?line=156'>157</a>\u001b[0m a \u001b[39m=\u001b[39m pd\u001b[39m.\u001b[39;49mconcat(a_li)\n\u001b[1;32m    <a href='vscode-notebook-cell:/Users/yuanbo/Documents/%E5%B7%A5%E4%BD%9C/%E6%98%9F%E5%9B%BE/%E8%B5%84%E6%96%991/%E5%AE%A2%E6%88%B7%E6%95%B0%E6%8D%AE%E5%BA%93QC%E7%A8%8B%E5%BA%8F%E5%8F%8A%E6%96%87%E4%BB%B6/%E8%A7%84%E6%A0%BC%E6%80%BB%E8%A7%84%E6%A0%BC%E6%A3%80%E6%9F%A5.ipynb#W1sZmlsZQ%3D%3D?line=157'>158</a>\u001b[0m jieguo \u001b[39m=\u001b[39m pd\u001b[39m.\u001b[39mconcat(paochu_group1)\n\u001b[1;32m    <a href='vscode-notebook-cell:/Users/yuanbo/Documents/%E5%B7%A5%E4%BD%9C/%E6%98%9F%E5%9B%BE/%E8%B5%84%E6%96%991/%E5%AE%A2%E6%88%B7%E6%95%B0%E6%8D%AE%E5%BA%93QC%E7%A8%8B%E5%BA%8F%E5%8F%8A%E6%96%87%E4%BB%B6/%E8%A7%84%E6%A0%BC%E6%80%BB%E8%A7%84%E6%A0%BC%E6%A3%80%E6%9F%A5.ipynb#W1sZmlsZQ%3D%3D?line=158'>159</a>\u001b[0m yichang_group \u001b[39m=\u001b[39m pd\u001b[39m.\u001b[39mconcat(yichang_group1)\n",
      "File \u001b[0;32m~/opt/anaconda3/lib/python3.8/site-packages/pandas/core/reshape/concat.py:285\u001b[0m, in \u001b[0;36mconcat\u001b[0;34m(objs, axis, join, ignore_index, keys, levels, names, verify_integrity, sort, copy)\u001b[0m\n\u001b[1;32m     82\u001b[0m \u001b[39mdef\u001b[39;00m \u001b[39mconcat\u001b[39m(\n\u001b[1;32m     83\u001b[0m     objs: Union[Iterable[\u001b[39m\"\u001b[39m\u001b[39mNDFrame\u001b[39m\u001b[39m\"\u001b[39m], Mapping[Label, \u001b[39m\"\u001b[39m\u001b[39mNDFrame\u001b[39m\u001b[39m\"\u001b[39m]],\n\u001b[1;32m     84\u001b[0m     axis\u001b[39m=\u001b[39m\u001b[39m0\u001b[39m,\n\u001b[0;32m   (...)\u001b[0m\n\u001b[1;32m     92\u001b[0m     copy: \u001b[39mbool\u001b[39m \u001b[39m=\u001b[39m \u001b[39mTrue\u001b[39;00m,\n\u001b[1;32m     93\u001b[0m ) \u001b[39m-\u001b[39m\u001b[39m>\u001b[39m FrameOrSeriesUnion:\n\u001b[1;32m     94\u001b[0m     \u001b[39m\"\"\"\u001b[39;00m\n\u001b[1;32m     95\u001b[0m \u001b[39m    Concatenate pandas objects along a particular axis with optional set logic\u001b[39;00m\n\u001b[1;32m     96\u001b[0m \u001b[39m    along the other axes.\u001b[39;00m\n\u001b[0;32m   (...)\u001b[0m\n\u001b[1;32m    283\u001b[0m \u001b[39m    ValueError: Indexes have overlapping values: ['a']\u001b[39;00m\n\u001b[1;32m    284\u001b[0m \u001b[39m    \"\"\"\u001b[39;00m\n\u001b[0;32m--> 285\u001b[0m     op \u001b[39m=\u001b[39m _Concatenator(\n\u001b[1;32m    286\u001b[0m         objs,\n\u001b[1;32m    287\u001b[0m         axis\u001b[39m=\u001b[39;49maxis,\n\u001b[1;32m    288\u001b[0m         ignore_index\u001b[39m=\u001b[39;49mignore_index,\n\u001b[1;32m    289\u001b[0m         join\u001b[39m=\u001b[39;49mjoin,\n\u001b[1;32m    290\u001b[0m         keys\u001b[39m=\u001b[39;49mkeys,\n\u001b[1;32m    291\u001b[0m         levels\u001b[39m=\u001b[39;49mlevels,\n\u001b[1;32m    292\u001b[0m         names\u001b[39m=\u001b[39;49mnames,\n\u001b[1;32m    293\u001b[0m         verify_integrity\u001b[39m=\u001b[39;49mverify_integrity,\n\u001b[1;32m    294\u001b[0m         copy\u001b[39m=\u001b[39;49mcopy,\n\u001b[1;32m    295\u001b[0m         sort\u001b[39m=\u001b[39;49msort,\n\u001b[1;32m    296\u001b[0m     )\n\u001b[1;32m    298\u001b[0m     \u001b[39mreturn\u001b[39;00m op\u001b[39m.\u001b[39mget_result()\n",
      "File \u001b[0;32m~/opt/anaconda3/lib/python3.8/site-packages/pandas/core/reshape/concat.py:342\u001b[0m, in \u001b[0;36m_Concatenator.__init__\u001b[0;34m(self, objs, axis, join, keys, levels, names, ignore_index, verify_integrity, copy, sort)\u001b[0m\n\u001b[1;32m    339\u001b[0m     objs \u001b[39m=\u001b[39m \u001b[39mlist\u001b[39m(objs)\n\u001b[1;32m    341\u001b[0m \u001b[39mif\u001b[39;00m \u001b[39mlen\u001b[39m(objs) \u001b[39m==\u001b[39m \u001b[39m0\u001b[39m:\n\u001b[0;32m--> 342\u001b[0m     \u001b[39mraise\u001b[39;00m \u001b[39mValueError\u001b[39;00m(\u001b[39m\"\u001b[39m\u001b[39mNo objects to concatenate\u001b[39m\u001b[39m\"\u001b[39m)\n\u001b[1;32m    344\u001b[0m \u001b[39mif\u001b[39;00m keys \u001b[39mis\u001b[39;00m \u001b[39mNone\u001b[39;00m:\n\u001b[1;32m    345\u001b[0m     objs \u001b[39m=\u001b[39m \u001b[39mlist\u001b[39m(com\u001b[39m.\u001b[39mnot_none(\u001b[39m*\u001b[39mobjs))\n",
      "\u001b[0;31mValueError\u001b[0m: No objects to concatenate"
     ]
    }
   ],
   "source": [
    "for i in tqdm(range(len(kehudf))):\n",
    "    Account = kehudf.loc[i,:].tolist()[-7:]\n",
    "    fillcol = kehudf.loc[i,:].tolist()[1:6]\n",
    "    print(\"Account=\",i,Account)\n",
    "    # print(\"fill=\",fillcol)\n",
    "# #####备注：单规格是带单位的\n",
    "# 冰品\n",
    "    sql0=\"SELECT distinct cast(\"+ Account[2] + \" as NVARCHAR(1000)) 产品名称,cast(\"+ Account[3] + \" as NVARCHAR(1000)) 单位包装规格,\" \\\n",
    "         \" cast(\"+ Account[4] + \" as float(1)) 套装数,cast(\"+ Account[5] + \" as float(1))  规格数,cast(\"+ Account[6] + \" as NVARCHAR(1000)) 制造商 from \"  + Account[0] +\"  \"\n",
    "    # print(sql0)\n",
    "    count0 = cs0.execute(sql0)\n",
    "    a0 = cs0.fetchall()\n",
    "    a=pd.DataFrame(a0,columns=['产品名称','单规格','套装数','总规格','制造商'])\n",
    "    a['数据库名']=fillcol[2]\n",
    "    a['客户'] = fillcol[0]\n",
    "    a['品类'] = fillcol[1]\n",
    "    a['单规格是否带单位'] = fillcol[3]\n",
    "    try:\n",
    "        if a['单规格是否带单位'][0] == '否':\n",
    "            a = a.astype({'单规格': 'float' })\n",
    "        a = a.astype({'总规格': 'float'})\n",
    "    except Exception as e:\n",
    "        print(e)\n",
    "        print(sql0)\n",
    "        continue\n",
    "    \n",
    "    for i in range(len(a)):\n",
    "        # a['总规格'][i]=a['总规格'][i].format('总规格','0.1f')\n",
    "        a['总规格'][i] = round(a['总规格'][i],1)\n",
    "        # print(a['总规格'][i])\n",
    "\n",
    "\n",
    "\n",
    "    # cs0.close()\n",
    "    # mssql.close()\n",
    "    # print (a)\n",
    "    a0=a['产品名称']\n",
    "\n",
    "    # name=a0.iloc[:,0]\n",
    "    # name_old=a0.iloc[:,0]\n",
    "    name=a0\n",
    "    name_old=a0\n",
    "    # print(name)\n",
    "    name=np.array(name)\n",
    "\n",
    "    paochu=[]\n",
    "    yichang=[]\n",
    "    for s in range(len(name)):\n",
    "        str_name0=name[s]\n",
    "        # print(str_name0)\n",
    "        try:\n",
    "            pattern0 = re.compile(r'\\*\\d*\\*\\d*')\n",
    "            pattern = re.compile(r'\\d+ml|\\d+g|\\d+\\.\\d+g|\\d+\\.\\d+ml')  # 匹配规格\n",
    "            pattern2 = re.compile(r'\\dml.\\d*|\\dg.\\d*|\\dml.|\\dg.')  # 匹配套装数\n",
    "            str_name原 = str_name0\n",
    "\n",
    "            str_name00 = str_name0.replace('3.8g乳蛋白', '乳蛋白').replace('3.5g乳蛋白', '乳蛋白').replace('3.6g乳蛋白', '乳蛋白').replace(\n",
    "                '3.3g乳蛋白', '乳蛋白').replace('3.6g蛋白', '蛋白').replace('*+', '+').replace('M', 'm').replace('L', 'l').replace('G', 'g').replace('5g蛋白', '蛋白').\\\n",
    "                replace('3.8g纯牛奶', '纯牛奶').replace('3.6g纯牛奶', '纯牛奶').replace('3.3g纯牛奶', '纯牛奶').replace('3.6g 纯牛奶', '纯牛奶').replace('3.3g 纯牛奶', '纯牛奶')\\\n",
    "                .replace('3.2g纯牛奶', '纯牛奶').replace('八克白 30g', '八克白').replace('八克白 14g', '八克白').\\\n",
    "                replace('106℃', '').replace('八克白 5g', '八克白').replace('八克白 21g', '八克白').replace('遵义 5.7g', '').\\\n",
    "                replace(' 2018世界杯20周年珍藏版', '').replace('9mlk', '').replace('33d', '').replace('ha 3gopobbe', '').replace('3.7g倍鲜', '').replace('卡士 3.3g', '')\n",
    "            for i in re.compile(r'([^*|+|*\\d+|+\\d+]\\d+[^ \\d+ml| \\d+g|\\d*|\\d+\\.g|\\d+\\.ml]+)').findall(str_name00):\n",
    "                str_name00 = str_name00.replace(i, '')\n",
    "            if str_name00.endswith(\"ml\") or str_name00.endswith(\"g\"):\n",
    "                str_name = str_name00 + '*1'\n",
    "            else:\n",
    "                str_name = str_name00\n",
    "\n",
    "            result0 = pattern0.findall(str_name)\n",
    "\n",
    "            # 对两个*的处理开始\n",
    "            # print(\"result0=\", result0)\n",
    "            shaungxing = []\n",
    "            shaungxing_yuan = []\n",
    "            if len(result0) > 0:\n",
    "                for s in result0:\n",
    "                    s_yuan = s[1:]\n",
    "                    s = str(s[1:]).split(\"*\")\n",
    "                    shaungxing.append(s)\n",
    "                    shaungxing_yuan.append(s_yuan)\n",
    "\n",
    "                # print(\"shaungxing=\", shaungxing)\n",
    "                # print(\"shaungxing_yuan=\", shaungxing_yuan)\n",
    "                shaungxing_jisuan = []\n",
    "                for i in shaungxing:\n",
    "                    i = int(i[0]) * int(i[1])\n",
    "                    shaungxing_jisuan.append(i)\n",
    "                # print(\"shaungxing_jisuan=\", shaungxing_jisuan)\n",
    "                # 双星替换\n",
    "                for i in range(len(shaungxing_yuan)):\n",
    "                    # print(\"shaungxing_yuan[i]=\", shaungxing_yuan[i])\n",
    "                    # print(\"shaungxing_jisuan[i]=\", shaungxing_jisuan[i])\n",
    "                    str_name1 = str_name.replace(str(shaungxing_yuan[i]), str(shaungxing_jisuan[i]))\n",
    "                    str_name = str_name1\n",
    "                # print(str_name1)\n",
    "            else:\n",
    "                str_name1 = str_name\n",
    "            # -------------对两个*的处理结束\n",
    "            result1 = pattern.findall(str_name1)\n",
    "            result2 = pattern2.findall(str_name1)\n",
    "            # print(\"result2=\", result2)\n",
    "            # print(\"result1=\", result1)\n",
    "            result3 = []\n",
    "            for i in result2:\n",
    "                if i[0] in ('0', '1', '2', '3', '4', '5', '6', '7', '8', '9'):\n",
    "                    # print('i[0]=', i[0])\n",
    "                    i = i[1:]\n",
    "                    result3.append(i)\n",
    "\n",
    "            # print(\"result3=\", result3)\n",
    "            result1_new = [str(result1[index]).replace('ml', '').replace('g', '') for index, value in enumerate(result1)]\n",
    "\n",
    "            replace_dict = {'ml+': '1','g+':'1','ml ': '1','g ': '1', 'ml*': '', 'g*': ''}\n",
    "            new_result = [str(replace_dict[i]) if i in replace_dict else i for i in result3]\n",
    "            result2_new = [str(new_result[index]).replace('g*', '').replace('ml*', '') for index, value in\n",
    "                           enumerate(new_result)]\n",
    "\n",
    "            # 类型转换\n",
    "            result_unit = [float(x) for x in result1_new]\n",
    "            result_ru = [float(x) for x in result2_new]\n",
    "\n",
    "            # print(\"result_unit=\", result_unit)\n",
    "            # print(\"result_ru=\", result_ru)\n",
    "            # if result_ru == []:\n",
    "            #     result_ru = [1]\n",
    "            func = lambda x, y: x * y\n",
    "            result = map(func, result_unit, result_ru)\n",
    "            result_guige = list(result)\n",
    "            result_zongguige = str(round(float(sum(result_guige)),1))\n",
    "            # print(\"result_zongguige=\", result_zongguige)\n",
    "            # print(\"result_guige=\", result_guige)\n",
    "            # print(\"a['单规格是否带单位']=\", a['单规格是否带单位'][0])\n",
    "            if a['单规格是否带单位'][0]=='是':\n",
    "                result_danguige = result1[0]\n",
    "            else :\n",
    "                result_danguige = round(result_unit[0],1) #代表单位规格去掉单位\n",
    "             #未去掉单位\n",
    "            # print(\"result_danguige=\", result_danguige)\n",
    "            result_taozhuangshu = str(round(float(sum(result_ru)),1))\n",
    "\n",
    "            result = [fillcol[0],fillcol[1],fillcol[2],fillcol[3],str_name原, str_name1, result_danguige, result_taozhuangshu, result_zongguige]\n",
    "            paochu.append(result)\n",
    "\n",
    "        except:\n",
    "            result_yichang = [fillcol[0], fillcol[1], fillcol[2],fillcol[3], str_name原]\n",
    "            yichang.append(result_yichang)\n",
    "            # break\n",
    "        continue\n",
    "    jieguo = pd.DataFrame(paochu, columns=['客户', '品类', '数据库名', '单规格是否带单位', '产品名称', '产品名称1', '单规格结果', '套装数结果', '总规格结果'])\n",
    "    yichang_group = pd.DataFrame(yichang, columns=['客户', '品类', '数据库名', '单规格是否带单位','产品名称'])\n",
    "\n",
    "    a_li.append(a)\n",
    "    yichang_group1.append(yichang_group)\n",
    "    paochu_group1.append(jieguo)\n",
    "\n",
    "a = pd.concat(a_li)\n",
    "jieguo = pd.concat(paochu_group1)\n",
    "yichang_group = pd.concat(yichang_group1)\n"
   ]
  },
  {
   "cell_type": "code",
   "execution_count": null,
   "metadata": {},
   "outputs": [],
   "source": [
    "\n",
    "pipei = pd.merge(left=a, right=jieguo, on=['产品名称','数据库名','客户','品类', '单规格是否带单位'], how=\"left\")\n",
    "pipei = pipei.astype({'单规格': 'str', '套装数': 'str', '总规格': 'str', '单规格结果': 'str', '套装数结果': 'str', '总规格结果': 'str'})\n",
    "pipei_result= pipei[(pipei['单规格'] != pipei['单规格结果'])|\n",
    "                    (pipei['套装数'] != pipei['套装数结果'])|\n",
    "                    (pipei['总规格'] != pipei['总规格结果'])][['客户', '品类', '数据库名', '制造商','产品名称', '单规格是否带单位','单规格', '套装数', '总规格','单规格结果', '套装数结果', '总规格结果' ]]\n",
    "\n",
    "pipei_result.drop_duplicates()\n",
    "# print (pipei_result)\n",
    "\n",
    "def mkdir(path):\n",
    "        folder = os.path.exists(path)\n",
    "        if not folder:    \n",
    "                os.makedirs(path)            #makedirs 创建文件时如果路径不存在会创建这个路径\n",
    "                print('检测无结果文件夹,程序将自动创建 📁')#判断是否存在文件夹如果不存在则创建为文件夹\n",
    "        else:\n",
    "                print('正在存放至 [结果] 📁')\n",
    "                pass\n",
    "mkdir('结果')\n",
    "\n",
    "\n",
    "with pd.ExcelWriter('结果/规格异常-结果.xlsx') as mc_writer:\n",
    "    # jieguo.to_excel(mc_writer, sheet_name='计算结果', na_rep='', index=False, startrow=0, startcol=0, header=True)\n",
    "    yichang_group.to_excel(mc_writer, sheet_name='异常产品名称',na_rep='',index=False,startrow=0,startcol=0,header=True)\n",
    "    pipei_result.to_excel(mc_writer, sheet_name='匹配不一致', na_rep='', index=False, startrow=0, startcol=0, header=True)\n",
    "    kehudf.to_excel(mc_writer, sheet_name='数据库及字段名', na_rep='', index=False, startrow=0, startcol=0, header=True)\n",
    "\n",
    "end  = datetime.datetime.now()\n",
    "\n",
    "\n",
    "print(\"程序运行时间：\"+str((end-start).seconds)+\"秒\")\n",
    "\n"
   ]
  },
  {
   "cell_type": "code",
   "execution_count": null,
   "metadata": {},
   "outputs": [],
   "source": []
  }
 ],
 "metadata": {
  "kernelspec": {
   "display_name": "Python 3.8.8 ('base')",
   "language": "python",
   "name": "python3"
  },
  "language_info": {
   "codemirror_mode": {
    "name": "ipython",
    "version": 3
   },
   "file_extension": ".py",
   "mimetype": "text/x-python",
   "name": "python",
   "nbconvert_exporter": "python",
   "pygments_lexer": "ipython3",
   "version": "3.8.8"
  },
  "orig_nbformat": 4,
  "vscode": {
   "interpreter": {
    "hash": "4810d97fa69c774a27ea716517d3de77cd5994d35ed24e3e258d8e9f36d09c6b"
   }
  }
 },
 "nbformat": 4,
 "nbformat_minor": 2
}

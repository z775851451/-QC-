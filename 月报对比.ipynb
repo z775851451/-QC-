{
 "cells": [
  {
   "cell_type": "code",
   "execution_count": 132,
   "metadata": {},
   "outputs": [],
   "source": [
    "# import _scproxy\n",
    "import pymssql\n",
    "import pandas as pd\n",
    "import numpy as np\n",
    "import openpyxl\n",
    "import warnings\n",
    "\n",
    "warnings.filterwarnings('ignore')"
   ]
  },
  {
   "cell_type": "code",
   "execution_count": 133,
   "metadata": {},
   "outputs": [],
   "source": [
    "def sql_connect(server='192.168.0.15',user='zhongxin_zyanbo',password='ZhangYB_068',sql=None):\n",
    "    syntun_conn = pymssql.connect(server=server,\n",
    "                            user=user,\n",
    "                            password=password)\n",
    "    syntun_cursor = syntun_conn.cursor()\n",
    "\n",
    "    syntun_cursor.execute(sql)\n",
    "    s = syntun_cursor.fetchall()\n",
    "    syntun_cursor.close()\n",
    "    syntun_conn.close()\n",
    "    return s\n",
    "\n",
    "d_=sql_connect(sql = 'select CAST ( 客户 AS nvarchar ( 500 ) ),\tCAST ( 品类 AS nvarchar ( 500 ) ),\tCAST ( 数据库名 AS nvarchar ( 500 ) ),\tCAST ( 对比数据库名 AS nvarchar ( 500 ) ),\tCAST ( 平台 AS nvarchar ( 500 ) ),\tCAST ( 月份 AS nvarchar ( 500 ) ),\tCAST ( 销售额 AS nvarchar ( 500 ) ),\tCAST ( 升销量 AS nvarchar ( 500 ) ),\tCAST ( 对比数据库平台 AS nvarchar ( 500 ) ),\tCAST ( 对比数据库月份 AS nvarchar ( 500 ) ),\tCAST ( 对比数据库销售额 AS nvarchar ( 500 ) ),\tCAST ( 对比数据库升销量 AS nvarchar ( 500 ) )  from [QC].[dbo].历史对比配置')\n",
    "QC_DF = pd.DataFrame(d_,columns =['客户','品类','数据库名','对比数据库名','平台','月份','销售额','升销量','对比数据库平台','对比数据库月份','对比数据库销售额','对比数据库升销量'])"
   ]
  },
  {
   "cell_type": "code",
   "execution_count": 134,
   "metadata": {},
   "outputs": [],
   "source": [
    "columns_dict = {0:'平台名称',1:'品牌',2:'产品名称'}"
   ]
  },
  {
   "cell_type": "code",
   "execution_count": 155,
   "metadata": {},
   "outputs": [
    {
     "name": "stdout",
     "output_type": "stream",
     "text": [
      "0    蒙牛\n",
      "1    伊利\n",
      "2      \n",
      "Name: 客户, dtype: object\n"
     ]
    }
   ],
   "source": [
    "print(QC_DF['客户'])"
   ]
  },
  {
   "cell_type": "code",
   "execution_count": 135,
   "metadata": {},
   "outputs": [],
   "source": [
    "# input('要运行的客户:')\n",
    "# inp_ = '伊利,蒙牛'.split(',')\n",
    "inp_ = input('要运行的客户列表逗号分隔:')\n",
    "# input('请输入需要对比的库后缀,如果库的名称已配置完整此处可以为空:')\n",
    "# inp_date = '202210'\n",
    "inp_date = input('请输入需要对比的库后缀,如果库的名称已配置完整此处可以为空:')"
   ]
  },
  {
   "cell_type": "code",
   "execution_count": 136,
   "metadata": {},
   "outputs": [],
   "source": [
    "use_df_ = QC_DF[QC_DF['客户'].isin(inp_)]\n",
    "mer_df = use_df_[['客户','品类','数据库名']]"
   ]
  },
  {
   "cell_type": "code",
   "execution_count": 138,
   "metadata": {},
   "outputs": [],
   "source": [
    "pd.set_option('display.float_format',lambda x : '%.2f' % x)"
   ]
  },
  {
   "cell_type": "code",
   "execution_count": 148,
   "metadata": {},
   "outputs": [],
   "source": [
    "a_box,b_box,c_box = [pd.DataFrame()],[pd.DataFrame()],[pd.DataFrame()]\n",
    "def lg(n):\n",
    "    use_df = use_df_[n:n+1]\n",
    "    sjk = use_df[['数据库名','平台','月份','销售额','升销量']]\n",
    "    db_sjk = use_df[['对比数据库名','对比数据库平台','对比数据库月份','对比数据库销售额','对比数据库升销量']]\n",
    "    sjk_ = pd.concat([sjk[['数据库名','月份','销售额','升销量']],sjk['平台'].str.split(',',expand=True).rename(columns = columns_dict)],axis=1)\n",
    "    db_sjk_ = pd.concat([db_sjk[['对比数据库名','对比数据库月份','对比数据库销售额','对比数据库升销量']],db_sjk['对比数据库平台'].str.split(',',expand=True).rename(columns = columns_dict)],axis=1)\n",
    "\n",
    "    sql_li_a = []\n",
    "    sql_li_b = []\n",
    "    for i in sjk_.columns:\n",
    "        sql_li_a.append( sjk_[i].values[0])\n",
    "    for i in db_sjk_.columns:\n",
    "        sql_li_b.append(db_sjk_[i].values[0])\n",
    "    \n",
    "    try:\n",
    "        s,a,b,c,d,e,f = sql_li_a\n",
    "        S,A,B,C,D,E,F = sql_li_b\n",
    "        S = S+inp_date\n",
    "    except:\n",
    "        try:\n",
    "            s,a,b,c,d,e = sql_li_a\n",
    "            S,A,B,C,D,E = sql_li_b\n",
    "            S = S+inp_date\n",
    "        except:\n",
    "            s,a,b,c,d = sql_li_a\n",
    "            S,A,B,C,D = sql_li_b\n",
    "            S = S+inp_date\n",
    "    \n",
    "    if len(sjk['平台'].str.split(',').values[0]) >= 0:\n",
    "        # a,b,c,d = sql_li_a\n",
    "        a_sql = f\"SELECT {a},CAST( {d} AS nvarchar ( 500 ) ),sum({b}),sum({c}) from {s} group by {a},{d}\"\n",
    "        \n",
    "        # A,B,C,D = sql_li_b\n",
    "        b_sql = f\"SELECT {A},CAST( {D} AS nvarchar ( 500 ) ),sum({B}),sum({C}) from {S} group by {A},{D}\"\n",
    "        \n",
    "        \n",
    "        a_df = pd.DataFrame(sql_connect(sql=a_sql),columns=['月份','平台','新数据库销售额','新数据库升销量'])\n",
    "        b_df = pd.DataFrame(sql_connect(sql=b_sql),columns=['月份','平台','备份数据库销售额','备份数据库升销量'])\n",
    "        c_df = a_df.merge(b_df,how='left',on=['月份','平台']).assign(\n",
    "            数据库名 = s,\n",
    "            备份数据库名 = S,\n",
    "            销售额差异 = lambda x: x['新数据库销售额']-x['备份数据库销售额'],\n",
    "            升销量差异 = lambda x: x['新数据库升销量']-x['备份数据库升销量'],\n",
    "            是否差异 = lambda x: abs(x['销售额差异']+x['升销量差异']) > 0000.1)\n",
    "        \n",
    "        a_box.append(c_df[c_df['是否差异'] == True])\n",
    "        \n",
    "    if len(sjk['平台'].str.split(',').values[0]) >= 1:\n",
    "        # a,b,c,d,e = sql_li_a\n",
    "        a_sql = f\"SELECT {a},CAST( {d} AS nvarchar ( 500 ) ),CAST( {e} AS nvarchar ( 500 ) ),sum({b}),sum({c}) from {s} group by {a},{d},{e}\"\n",
    "        \n",
    "        # A,B,C,D,E = sql_li_b\n",
    "        b_sql = f\"SELECT {A},CAST( {D} AS nvarchar ( 500 ) ),CAST( {E} AS nvarchar ( 500 ) ),sum({B}),sum({C}) from {S} group by {A},{D},{E}\"\n",
    "        \n",
    "        a_df = pd.DataFrame(sql_connect(sql=a_sql),columns=['月份','平台','品牌','新数据库销售额','新数据库升销量'])\n",
    "        b_df = pd.DataFrame(sql_connect(sql=b_sql),columns=['月份','平台','品牌','备份数据库销售额','备份数据库升销量'])\n",
    "        c_df = a_df.merge(b_df,how='left',on=['月份','平台','品牌']).assign(\n",
    "            数据库名 = s,\n",
    "            备份数据库名 = S,\n",
    "            销售额差异 = lambda x: x['新数据库销售额']-x['备份数据库销售额'],\n",
    "            升销量差异 = lambda x: x['新数据库升销量']-x['备份数据库升销量']\n",
    "            ,\n",
    "            是否差异 = lambda x: abs(x['销售额差异']+x['升销量差异']) > 0\n",
    "            )\n",
    "        \n",
    "        b_box.append(c_df[c_df['是否差异'] == True])\n",
    "    \n",
    "    if len(sjk['平台'].str.split(',').values[0]) >= 2:\n",
    "        # a,b,c,d,e,f = sql_li_a\n",
    "        a_sql = f\"SELECT {a},CAST( {d} AS nvarchar ( 500 ) ),CAST( {e} AS nvarchar ( 500 ) ),CAST( {f} AS nvarchar ( 500 ) ),sum({b}),sum({c}) from {s} group by {a},{d},{e},{f}\"\n",
    "        \n",
    "        # A,B,C,D,E,F = sql_li_b\n",
    "        b_sql = f\"SELECT {A},CAST( {D} AS nvarchar ( 500 ) ),CAST( {E} AS nvarchar ( 500 ) ),CAST( {F} AS nvarchar ( 500 ) ),sum({B}),sum({C}) from {S} group by {A},{D},{E},{F}\"\n",
    "        \n",
    "        a_df = pd.DataFrame(sql_connect(sql=a_sql),columns=['月份','平台','品牌','产品名称','新数据库销售额','新数据库升销量'])\n",
    "        b_df = pd.DataFrame(sql_connect(sql=b_sql),columns=['月份','平台','品牌','产品名称','备份数据库销售额','备份数据库升销量'])\n",
    "        c_df = a_df.merge(b_df,how='left',on=['月份','平台','品牌','产品名称']).assign(\n",
    "            数据库名 = s,\n",
    "            备份数据库名 = S,\n",
    "            销售额差异 = lambda x: x['新数据库销售额']-x['备份数据库销售额'],\n",
    "            升销量差异 = lambda x: x['新数据库升销量']-x['备份数据库升销量'],\n",
    "            是否差异 = lambda x: abs(x['销售额差异']+x['升销量差异']) > 0)\n",
    "\n",
    "        c_box.append(c_df[c_df['是否差异'] == True])\n",
    "\n",
    "    # sjk_len = len(sjk_.columns[~sjk_.columns.isin(['数据库名','月份','销售额','升销量'])])\n",
    "    \n",
    "    \n",
    "    # sql = \n",
    "    # sql_ = \n",
    "    \n",
    "    return a_box,b_box,c_box\n",
    "    return len(sjk['平台'].str.split(','))\n",
    "    \n",
    "for i in range(len(use_df_)):\n",
    "    lg(i)"
   ]
  },
  {
   "cell_type": "code",
   "execution_count": 152,
   "metadata": {},
   "outputs": [],
   "source": [
    "# a_box,b_box,c_box\n",
    "import openpyxl\n",
    "from openpyxl import load_workbook\n",
    "with pd.ExcelWriter(f'结果/{inp_}月报对比_结果.xlsx') as mn_writer:\n",
    "    mer_df.merge(pd.concat(a_box,axis=0)[['月份','数据库名','备份数据库名','平台','新数据库销售额','新数据库升销量','备份数据库销售额','备份数据库升销量','销售额差异','升销量差异','是否差异']],how='right', on=['数据库名']).to_excel(mn_writer,sheet_name='平台',na_rep='',index=False)\n",
    "    mer_df.merge(pd.concat(b_box,axis=0)[['月份','数据库名','备份数据库名','平台','品牌','新数据库销售额','新数据库升销量','备份数据库销售额','备份数据库升销量','销售额差异','升销量差异','是否差异']],how='right', on=['数据库名']).to_excel(mn_writer,sheet_name='平台 品牌',na_rep='',index=False)\n",
    "    try:\n",
    "        mer_df.merge(pd.concat(c_box,axis=0)[['月份','数据库名','备份数据库名','平台','品牌','产品名称','新数据库销售额','新数据库升销量','备份数据库销售额','备份数据库升销量','销售额差异','升销量差异','是否差异']],how='right', on=['数据库名']).to_excel(mn_writer,sheet_name='平台 品牌 产品名称',na_rep='',index=False)\n",
    "    except:\n",
    "        pass\n"
   ]
  }
 ],
 "metadata": {
  "kernelspec": {
   "display_name": "Python 3.8.8 ('base')",
   "language": "python",
   "name": "python3"
  },
  "language_info": {
   "codemirror_mode": {
    "name": "ipython",
    "version": 3
   },
   "file_extension": ".py",
   "mimetype": "text/x-python",
   "name": "python",
   "nbconvert_exporter": "python",
   "pygments_lexer": "ipython3",
   "version": "3.8.8"
  },
  "orig_nbformat": 4,
  "vscode": {
   "interpreter": {
    "hash": "4810d97fa69c774a27ea716517d3de77cd5994d35ed24e3e258d8e9f36d09c6b"
   }
  }
 },
 "nbformat": 4,
 "nbformat_minor": 2
}

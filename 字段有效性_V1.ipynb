{
 "cells": [
  {
   "cell_type": "code",
   "execution_count": 5,
   "metadata": {},
   "outputs": [
    {
     "name": "stdout",
     "output_type": "stream",
     "text": [
      "客户名：蒙牛、恒天然、喜宝、伊利、维他奶、百事可乐、红牛、桂格、可口可乐、倍耐力、马牌、固特异、任天堂、好记、家乐氏、卡士、Costa、雅士利、养乐多\n"
     ]
    }
   ],
   "source": [
    "#coding:utf-8\n",
    "# import _scproxy\n",
    "import pymssql\n",
    "import pandas as pd\n",
    "import datetime\n",
    "import smtplib\n",
    "\n",
    "start  = datetime.datetime.now()\n",
    "\n",
    "from tqdm import tqdm\n",
    "from time import sleep\n",
    "\n",
    "def sql_connect(server='192.168.0.15',user='zhongxin_zyanbo',password='ZhangYB_068',database='QC',sql=None):\n",
    "    syntun_conn = pymssql.connect(server=server,\n",
    "                            user=user,\n",
    "                            password=password,\n",
    "                            database=database)\n",
    "    syntun_cursor = syntun_conn.cursor()\n",
    "\n",
    "    syntun_cursor.execute(sql)\n",
    "    s = syntun_cursor.fetchall()\n",
    "    syntun_cursor.close()\n",
    "    syntun_conn.close()\n",
    "    return s\n",
    "\n",
    "\n",
    "import os\n",
    "def mkdir(path):\n",
    "        folder = os.path.exists(path)\n",
    "        if not folder:    \n",
    "                os.makedirs(path)            #makedirs 创建文件时如果路径不存在会创建这个路径\n",
    "                print('检测无 [模版] 文件夹,程序将自动创建,请将模版( 客户字段及内容_有效性.xlsx )放置到此处')#判断是否存在文件夹如果不存在则创建为文件夹\n",
    "                input('放置后确认将运行')\n",
    "        else:\n",
    "                # print('正在存放至 [模版] 📁')\n",
    "                pass\n",
    "mkdir('模版')\n",
    "\n",
    "# df = pd.read_excel(r'模版/客户字段及内容_有效性.xlsx')\n",
    "\n",
    "df = pd.DataFrame(sql_connect(sql = 'select * from 客户字段及内容_有效性'),columns = ['客户名','品类','数据库名','字段名','字段内容'])\n",
    "\n",
    "\n",
    "# df_sta = df.copy()\n",
    "# df_sta['数据库名'] = df_sta['数据库名'].str.replace(']', '')\n",
    "# df_sta['数据库名'] = df_sta['数据库名'].str.replace('[', '')\n",
    "# df_sta['数据库表名'] = df_sta['数据库名'].str.split('.').str[0]\n",
    "# 关注库内表名列表\n",
    "df=df[['客户名','品类','数据库名','字段名','字段内容']]\n",
    "df1=df.reset_index()\n",
    "# 筛选客户品类\n",
    "# 客户名：蒙牛、恒天然、喜宝、伊利、维他奶、百事可乐、红牛、桂格、可口可乐、倍耐力、马牌、固特异、任天堂、好记、家乐氏、卡士、Costa、雅士利、养乐多\n",
    "print(\"客户名：蒙牛、恒天然、喜宝、伊利、维他奶、百事可乐、红牛、桂格、可口可乐、倍耐力、马牌、固特异、任天堂、好记、家乐氏、卡士、Costa、雅士利、养乐多\")\n",
    "kehu=input('请键入要运行的库户名称:')\n",
    "if kehu != 'all':\n",
    "    df=df1[df1['客户名']== kehu]\n",
    "else:\n",
    "    df=df1\n",
    "\n"
   ]
  },
  {
   "cell_type": "code",
   "execution_count": 16,
   "metadata": {},
   "outputs": [
    {
     "data": {
      "text/plain": [
       "271"
      ]
     },
     "execution_count": 16,
     "metadata": {},
     "output_type": "execute_result"
    }
   ],
   "source": [
    "df.shape[0]"
   ]
  },
  {
   "cell_type": "code",
   "execution_count": 6,
   "metadata": {},
   "outputs": [],
   "source": [
    "df_t = df[['数据库名','字段名']].drop_duplicates()\n",
    "# .assign(t = lambda x:f\" cast({str(x['字段名'])} as nvarchar)as {x['字段名']}\")\n",
    "df_t_ = df_t.assign(s = df_t['字段名'].map(lambda x: f\" cast({str(x)} as nvarchar)as {x} \"))\n",
    "df_t_ = df_t_.groupby(by=['数据库名']).agg({'s':','.join}).reset_index()\n",
    "df_t_ = df_t_.assign(k = df_t_['数据库名'].map(lambda x: f\" FROM {str(x)}\"))\n",
    "sqllis = df_t_.apply(lambda x:f\"SELECT distinct {x['s']} {x['k']}\",axis=1).to_list()"
   ]
  },
  {
   "cell_type": "code",
   "execution_count": 7,
   "metadata": {},
   "outputs": [
    {
     "name": "stderr",
     "output_type": "stream",
     "text": [
      "  0%|          | 0/5 [00:00<?, ?it/s]"
     ]
    },
    {
     "name": "stdout",
     "output_type": "stream",
     "text": [
      "5\n",
      "uniq= ['send_out.dbo.MN_DATA_YTN_NEW', 'send_out.dbo.MN_DATA_DIWENSUAN_NEW', 'send_out.dbo.MN_DATA_DIWENxian_NEW', 'send_out.dbo.MN_DATA_DIWENrsj_NEW', 'item.dbo.MENGNIU_DATA_SFMP_NEW']\n"
     ]
    },
    {
     "name": "stderr",
     "output_type": "stream",
     "text": [
      "100%|██████████| 5/5 [00:20<00:00,  4.04s/it]"
     ]
    },
    {
     "name": "stdout",
     "output_type": "stream",
     "text": [
      "list1= Empty DataFrame\n",
      "Columns: []\n",
      "Index: []\n"
     ]
    },
    {
     "name": "stderr",
     "output_type": "stream",
     "text": [
      "\n"
     ]
    }
   ],
   "source": [
    "# df['数据库名'] = df['数据库名'].map(str.strip)\n",
    "uniq = df['数据库名'].str.replace(' ', '').unique().tolist()\n",
    "print(len(uniq))\n",
    "# uniq = uniq[2:3]\n",
    "print(\"uniq=\",uniq)\n",
    "\n",
    "dd_list=[]\n",
    "for mm in tqdm(uniq):\n",
    "    coln_lis = []  # 装表的列名\n",
    "    xiaodf_lis = []  # 装没有列名的表\n",
    "    for w in ['utf8']:\n",
    "        # 连接数据库\n",
    "        syntun_conn = pymssql.connect(server='192.168.0.15',\n",
    "                                      user='zhongxin_yanfa',\n",
    "                                      password='Xin_yanfa',\n",
    "                                      charset=w)\n",
    "        syntun_cursor = syntun_conn.cursor()\n",
    "        \n",
    "        for i in sqllis:\n",
    "            sql = i\n",
    "            # print(sql)\n",
    "            m=str(sql[sql.rfind(\"from \"):]).replace(\"from\",\"\").replace(\" \",\"\")\n",
    "            # print (\"m=\",m)\n",
    "            try:\n",
    "                syntun_cursor.execute(sql)\n",
    "            except:\n",
    "                print(i + ':读取失败………………', w)\n",
    "                continue\n",
    "            if m == mm:\n",
    "                xcolumns = [e[0] for e in syntun_cursor.description]\n",
    "                # print(\"xcolumns=\",xcolumns)\n",
    "                sqljieguo = syntun_cursor.fetchall()\n",
    "                # print(\"sqljieguo=\", sqljieguo)\n",
    "                sqljieguo = pd.DataFrame(sqljieguo, columns=xcolumns)\n",
    "                # print(sqljieguo.columns)\n",
    "                # 库内每张表关注的所有字段名列表：a\n",
    "                excel_lie = df[df['数据库名'] == m]['字段名'].unique().tolist()\n",
    "                # print(\"excel_lie=\",excel_lie)\n",
    "                for h in excel_lie:\n",
    "                    # 每个关注的字段名对应值的列表：b\n",
    "                    excel_zhi = df[(df['数据库名'] == m)\n",
    "                           & (df['字段名'] == h)]['字段内容'].unique().tolist()\n",
    "                    # print(\"excel_zhi=\",excel_zhi)\n",
    "                    # 判断库内表字段h的值是否存在于b中(两个列表内的元素是否相同？在库列表中而不在对照列表中为错误\n",
    "                    ku_lis = sqljieguo[h].unique().tolist()\n",
    "                    # print(\"ku_lis=\",ku_lis)\n",
    "                    err_lis = [x for x in ku_lis if x not in excel_zhi]\n",
    "                    # print('err_lis',err_lis)\n",
    "                    if err_lis != []:\n",
    "                        tqdm.write(f'在{m}表中{h}列发现异常值{err_lis}!')\n",
    "                        p=f'在{m}表中{h}列发现异常值{err_lis}!'\n",
    "                        dd_list.append(p)\n",
    "                    # else:\n",
    "                    #     print(m,f'表',h,'正常')\n",
    "            # else:\n",
    "            #     print('表名未匹配')\n",
    "list1=pd.DataFrame(dd_list)\n",
    "print(\"list1=\",list1)"
   ]
  },
  {
   "cell_type": "code",
   "execution_count": 4,
   "metadata": {},
   "outputs": [
    {
     "name": "stdout",
     "output_type": "stream",
     "text": [
      "正在存放至 [结果] 📁\n",
      "程序运行时间：44秒\n"
     ]
    },
    {
     "data": {
      "text/plain": [
       "''"
      ]
     },
     "execution_count": 4,
     "metadata": {},
     "output_type": "execute_result"
    }
   ],
   "source": [
    "import os\n",
    "def mkdir(path):\n",
    "        folder = os.path.exists(path)\n",
    "        if not folder:    \n",
    "                os.makedirs(path)            #makedirs 创建文件时如果路径不存在会创建这个路径\n",
    "                print('检测无结果文件夹,程序将自动创建 📁')#判断是否存在文件夹如果不存在则创建为文件夹\n",
    "        else:\n",
    "                print('正在存放至 [结果] 📁')\n",
    "                pass\n",
    "mkdir('结果')\n",
    "\n",
    "\n",
    "list1.to_excel(f\"结果/{kehu}youxiaoxing.xlsx\")\n",
    "\n",
    "syntun_cursor.close()\n",
    "syntun_conn.close()\n",
    "\n",
    "\n",
    "\n",
    "end  = datetime.datetime.now()\n",
    "print(\"程序运行时间：\"+str((end-start).seconds)+\"秒\")\n",
    "\n",
    "input('文件已输出,请到 [结果] 文件下获取')\n"
   ]
  }
 ],
 "metadata": {
  "kernelspec": {
   "display_name": "Python 3.8.8 ('base')",
   "language": "python",
   "name": "python3"
  },
  "language_info": {
   "codemirror_mode": {
    "name": "ipython",
    "version": 3
   },
   "file_extension": ".py",
   "mimetype": "text/x-python",
   "name": "python",
   "nbconvert_exporter": "python",
   "pygments_lexer": "ipython3",
   "version": "3.8.8"
  },
  "orig_nbformat": 4,
  "vscode": {
   "interpreter": {
    "hash": "4810d97fa69c774a27ea716517d3de77cd5994d35ed24e3e258d8e9f36d09c6b"
   }
  }
 },
 "nbformat": 4,
 "nbformat_minor": 2
}

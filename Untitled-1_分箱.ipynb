{
 "cells": [
  {
   "cell_type": "code",
   "execution_count": 1,
   "metadata": {},
   "outputs": [],
   "source": [
    "import _scproxy\n",
    "import pandas as pd \n",
    "import numpy as np\n",
    "import openpyxl\n",
    "import pymssql\n",
    "import datetime\n",
    "from datetime import date, timedelta\n",
    "from dateutil.relativedelta import relativedelta\n",
    "import numpy as np\n",
    "from scipy import stats\n",
    " \n",
    "\n",
    "def sql_connect(server,user,password,database,sql):\n",
    "    syntun_conn = pymssql.connect(server=server,\n",
    "                              user=user,\n",
    "                              password=password,\n",
    "                              database=database)\n",
    "    syntun_cursor = syntun_conn.cursor()\n",
    "\n",
    "    syntun_cursor.execute(sql)\n",
    "    s = syntun_cursor.fetchall()\n",
    "    syntun_cursor.close()\n",
    "    syntun_conn.close()\n",
    "    return s\n",
    "\n",
    "mn_sql = \"SELECT \\\n",
    "            D_TIME,\\\n",
    "            CAST ( 平台名称 AS nvarchar ),\\\n",
    "            CAST ( 制造商 AS nvarchar ),\\\n",
    "            CAST ( 品类 AS nvarchar ),\\\n",
    "            CAST ( 品牌 AS nvarchar ( 2000 ) ),\\\n",
    "            CAST ( 子品牌 AS nvarchar ( 2000 ) ),\\\n",
    "            CAST ( 产品名称 AS nvarchar ( 2000 ) ),\\\n",
    "            CAST ( 店铺名称 AS nvarchar ( 2000 ) ),\\\n",
    "            CAST ( 店铺类型 AS nvarchar ( 2000 ) ),\\\n",
    "            [销售额SKU)]*10000,\\\n",
    "            [销量(L/KG)], \\\n",
    "            [销量(SKU)] \\\n",
    "    FROM MN_DATA_YTN_NEW \\\n",
    "    WHERE D_TIME between '202201' and '202209'  and 制造商 in('蒙牛','伊利') and 平台名称 in('天猫','京东') and 店铺类型 in('平台自营','品牌旗舰店')\"\n",
    "    \n",
    "mn_df = pd.DataFrame(sql_connect('192.168.0.15','zhongxin_zyanbo','ZhangYB_068','send_out',mn_sql),columns=['月份','平台名称','制造商','品类','品牌','子品牌','产品名称','店铺名称','店铺类型','销售额','升销量','件销量'])\n",
    "\n",
    "\n"
   ]
  },
  {
   "cell_type": "code",
   "execution_count": 110,
   "metadata": {},
   "outputs": [],
   "source": [
    "\n",
    "bp_sql = \"SELECT \\\n",
    "            MONTH,\\\n",
    "            CAST ( 平台名称 AS nvarchar ),\\\n",
    "            CAST ( 制造商 AS nvarchar ),\\\n",
    "            CAST ( 品类 AS nvarchar ),\\\n",
    "            CAST ( 品牌 AS nvarchar ( 2000 ) ),\\\n",
    "            CAST ( 子品牌 AS nvarchar ( 2000 ) ),\\\n",
    "            CAST ( 产品名称 AS nvarchar ( 2000 ) ),\\\n",
    "            CAST ( 店铺名称 AS nvarchar ( 2000 ) ),\\\n",
    "            CAST ( 店铺类型 AS nvarchar ( 2000 ) ),\\\n",
    "            [销售额SKU)]*10000,\\\n",
    "            [销量(L/KG)], \\\n",
    "            [销量(SKU)] \\\n",
    "    FROM YILI_DATA_BINGPIN_NEW \\\n",
    "    WHERE MONTH between '202201' and '202209'  and 平台名称 in('天猫','京东') and 店铺类型 in('平台自营','品牌旗舰店')\"\n",
    "    \n",
    "bp_df = pd.DataFrame(sql_connect('192.168.0.15','zhongxin_zyanbo','ZhangYB_068','item',bp_sql),columns=['月份','平台名称','制造商','品类','品牌','子品牌','产品名称','店铺名称','店铺类型','销售额','升销量','件销量'])\n"
   ]
  },
  {
   "cell_type": "code",
   "execution_count": 7,
   "metadata": {},
   "outputs": [],
   "source": [
    "df_url = mn_df[['制造商','产品名称','销售额','升销量']]\n",
    "url = mn_df[['制造商','产品名称']].drop_duplicates()"
   ]
  },
  {
   "cell_type": "code",
   "execution_count": 123,
   "metadata": {},
   "outputs": [],
   "source": [
    "t = df_url[df_url['产品名称']=='伊利 金典 纯牛奶 250ml*12'][['产品名称','销售额','升销量']].assign(升价格  = lambda x:x['销售额']/x['升销量'])\n",
    "t1 = bp_df[bp_df['产品名称']=='蒙牛 随变 厚乳布丁口味 脆筒冰淇淋 73g*4'][['产品名称','销售额','升销量']].assign(升价格  = lambda x:x['销售额']/x['升销量'])"
   ]
  },
  {
   "cell_type": "code",
   "execution_count": 118,
   "metadata": {},
   "outputs": [
    {
     "name": "stdout",
     "output_type": "stream",
     "text": [
      "    最小值:     9.099999999999998\n",
      "    最大值:     32.99333333333333\n",
      "    平均值:     18.488985148514836\n",
      "    中位数:     17.896666666666665\n",
      "    极差:       23.893333333333334\n",
      "    标准差:     3.3789963422811296\n",
      "    下四分位数:  16.46666666666667\n",
      "    上四分位数:  21.5\n",
      "    四分位距:   5.033333333333331\n",
      "    离散系数:   0.1827572641299111\n",
      "    偏度:   0.684892586742517\n",
      "    峰度:   2.9804470118492876\n",
      "    上四分位数+标准差:    24.87899634228113\n"
     ]
    }
   ],
   "source": [
    "print(\n",
    "    f'\\\n",
    "    最小值:     {t.升价格.min()}\\n\\\n",
    "    最大值:     {t.升价格.max()}\\n\\\n",
    "    平均值:     {t.升价格.mean()}\\n\\\n",
    "    中位数:     {t.升价格.median()}\\n\\\n",
    "    极差:       {t.升价格.max()-t.升价格.min()}\\n\\\n",
    "    标准差:     {t.升价格.std()}\\n\\\n",
    "    下四分位数:  {np.quantile(t.升价格,0.25,interpolation=\"lower\")}\\n\\\n",
    "    上四分位数:  {np.quantile(t.升价格,0.75,interpolation=\"higher\")}\\n\\\n",
    "    四分位距:   {np.quantile(t.升价格,0.75,interpolation=\"lower\")-np.quantile(t.升价格,0.25,interpolation=\"lower\")}\\n\\\n",
    "    离散系数:   {t.升价格.std()/t.升价格.mean()}\\n\\\n",
    "    偏度:   {stats.skew(t.升价格)}\\n\\\n",
    "    峰度:   {stats.kurtosis(t.升价格)}\\n\\\n",
    "    上四分位数+标准差:    {np.quantile(t.升价格,0.75,interpolation=\"higher\")+t.升价格.std()}'\n",
    "    )"
   ]
  },
  {
   "cell_type": "code",
   "execution_count": null,
   "metadata": {},
   "outputs": [],
   "source": [
    "t1"
   ]
  },
  {
   "cell_type": "code",
   "execution_count": 124,
   "metadata": {},
   "outputs": [
    {
     "name": "stdout",
     "output_type": "stream",
     "text": [
      "    最小值:     86.33561643835617\n",
      "    最大值:     155.34246575342468\n",
      "    平均值:     129.91873693986528\n",
      "    中位数:     129.7945205479452\n",
      "    极差:       69.00684931506851\n",
      "    标准差:     26.610472736634417\n",
      "    下四分位数:  111.54109589041096\n",
      "    上四分位数:  155.34246575342465\n",
      "    四分位距:   43.80136986301369\n",
      "    离散系数:   0.20482397969240917\n",
      "    偏度:   -0.44191038386286896\n",
      "    峰度:   -1.2776053741509719\n",
      "    上四分位数+标准差:    181.95293849005907\n"
     ]
    }
   ],
   "source": [
    "print(\n",
    "    f'\\\n",
    "    最小值:     {t1.升价格.min()}\\n\\\n",
    "    最大值:     {t1.升价格.max()}\\n\\\n",
    "    平均值:     {t1.升价格.mean()}\\n\\\n",
    "    中位数:     {t1.升价格.median()}\\n\\\n",
    "    极差:       {t1.升价格.max()-t1.升价格.min()}\\n\\\n",
    "    标准差:     {t1.升价格.std()}\\n\\\n",
    "    下四分位数:  {np.quantile(t1.升价格,0.25,interpolation=\"lower\")}\\n\\\n",
    "    上四分位数:  {np.quantile(t1.升价格,0.75,interpolation=\"higher\")}\\n\\\n",
    "    四分位距:   {np.quantile(t1.升价格,0.75,interpolation=\"lower\")-np.quantile(t1.升价格,0.25,interpolation=\"lower\")}\\n\\\n",
    "    离散系数:   {t1.升价格.std()/t1.升价格.mean()}\\n\\\n",
    "    偏度:   {stats.skew(t1.升价格)}\\n\\\n",
    "    峰度:   {stats.kurtosis(t1.升价格)}\\n\\\n",
    "    上四分位数+标准差:    {np.quantile(t1.升价格,0.75,interpolation=\"higher\")+t1.升价格.std()}'\n",
    "    )\n"
   ]
  },
  {
   "cell_type": "code",
   "execution_count": 114,
   "metadata": {},
   "outputs": [],
   "source": [
    "t1.to_excel('t11.xlsx')"
   ]
  },
  {
   "cell_type": "code",
   "execution_count": null,
   "metadata": {},
   "outputs": [],
   "source": [
    "def t(cpmc):\n",
    "    # print(cpmc)\n",
    "    #比例: 数值越大越严格,依照 all 的情况,(平均值&中位数,来判定样本的整体偏移)\n",
    "    sjg = df_sjg_80[(df_sjg_80['产品名称']==cpmc)&(df_sjg_80['月份'] == month[-1])]\n",
    "    sjg_all = df_sjg_80[(df_sjg_80['产品名称']==cpmc)&(df_sjg_80['月份'].isin(month[1:-1]))]\n",
    "    # print(sjg_all.shape[0])\n",
    "    if sjg_all.shape[0] < 5:\n",
    "        return \"0|10000|10000\"\n",
    "    # diff_median = 0\n",
    "    # # diff_mean = 0\n",
    "    else:\n",
    "        if sjg_all.升价格.median() <= 80 :\n",
    "            diff_median = abs((sjg.升价格.median() - sjg_all.升价格.median()))/10\n",
    "            diff_mean = abs((sjg.升价格.mean()-sjg_all.升价格.mean()))/10\n",
    "            \n",
    "        elif sjg_all.升价格.median() > 81 and sjg_all.升价格.median() < 200:\n",
    "            diff_median = abs(sjg.升价格.median()/sjg_all.升价格.median()-1.05)\n",
    "            diff_mean = abs((sjg.升价格.mean()/sjg_all.升价格.mean())-1.05)\n",
    "        \n",
    "        else:\n",
    "            # sjg_all.升价格.median() > 200:\n",
    "            diff_median = abs(sjg.升价格.median()/sjg_all.升价格.median()-1.15)\n",
    "            diff_mean = abs((sjg.升价格.mean()/sjg_all.升价格.mean())-1.15)\n",
    "        \n",
    "        \n",
    "        # if sjg_all.升价格.median() <= 80 :\n",
    "        # diff_median = abs((sjg.升价格.median() - sjg_all.升价格.median()))/10\n",
    "        # diff_mean = abs((sjg.升价格.mean() - sjg_all.升价格.mean()))/10\n",
    "            \n",
    "            \n",
    "            \n",
    "        # return sjg.升价格.mean(),sjg_all.升价格.mean()\n",
    "        \n",
    "        \n",
    "        if diff_median+diff_mean > 1:\n",
    "            return \"0|0|0\"\n",
    "            # return diff_median,diff_mean\n",
    "        elif pd.isnull(diff_median):\n",
    "            return False\n",
    "        else:\n",
    "            ages = sjg_all.升价格\n",
    "            lower_q=np.quantile(ages,diff_median+diff_mean,interpolation='lower')#下四分位数\n",
    "            higher_q=np.quantile(ages,1-diff_median-diff_mean,interpolation='higher')#上四分位数\n",
    "            int_r=higher_q-lower_q#四分位距\n",
    "            \n",
    "        try:\n",
    "            lg = pd.cut(sjg_all.升价格, bins=[0,lower_q, higher_q,100000]).value_counts()\n",
    "        except:\n",
    "            return False\n",
    "        return f\"{lower_q}|{higher_q}|{lg.to_dict()}\""
   ]
  },
  {
   "cell_type": "code",
   "execution_count": null,
   "metadata": {},
   "outputs": [],
   "source": [
    "np.quantile(t.升价格,0.75,interpolation=\"higher\")+t.升价格.std()"
   ]
  },
  {
   "cell_type": "code",
   "execution_count": null,
   "metadata": {},
   "outputs": [],
   "source": []
  },
  {
   "cell_type": "markdown",
   "metadata": {},
   "source": [
    "- ### 逻辑(在只考虑抛出较大价格逻辑)\n",
    "- > 1.偏度大于0.5 \n"
   ]
  },
  {
   "cell_type": "code",
   "execution_count": 86,
   "metadata": {},
   "outputs": [
    {
     "data": {
      "image/png": "[encoded data removed]",
      "text/plain": [
       "<Figure size 432x288 with 1 Axes>"
      ]
     },
     "metadata": {
      "needs_background": "light"
     },
     "output_type": "display_data"
    }
   ],
   "source": [
    "\n",
    "import matplotlib.pyplot as plt\n",
    "import numpy as np\n",
    "\n",
    "# x = np.array(range(int(a.升价格.max())))\n",
    "plt.scatter(t['升价格'].values,t['升价格'].values)\n",
    "plt.show()"
   ]
  },
  {
   "cell_type": "markdown",
   "metadata": {},
   "source": [
    "##### 偏度与峰度\n",
    "\n",
    "\n",
    "- > 偏度（Skewness）\n",
    "用来描述数据分布的对称性，正态分布的偏度为0。计算数据样本的偏度，当偏度<0时，称为负偏，数据出现左侧长尾；当偏度>0时，称为正偏，数据出现右侧长尾；当偏度为0时，表示数据相对均匀的分布在平均值两侧，不一定是绝对的对称分布，此时要与正态分布偏度为0的情况进行区分。\n",
    "当偏度绝对值过大时，长尾的一侧出现极端值的可能性较高。\n",
    "- > 峰度(Kurtosis)\n",
    "用来描述数据分布陡峭或是平滑的情况。正态分布的峰度为3，峰度越大，代表分布越陡峭，尾部越厚；峰度越小，分布越平滑。很多情况下，为方便计算，将峰度值－3，因此正态分布的峰度变为0，方便比较。\n",
    "在方差相同的情况下，峰度越大，存在极端值的可能性越高。"
   ]
  },
  {
   "cell_type": "code",
   "execution_count": 81,
   "metadata": {},
   "outputs": [
    {
     "data": {
      "text/plain": [
       "-0.44191038386286896"
      ]
     },
     "execution_count": 81,
     "metadata": {},
     "output_type": "execute_result"
    }
   ],
   "source": [
    "\n",
    "\n",
    "stats.skew(t1.升价格)\n",
    "stats.kurtosis(t1.升价格)\n"
   ]
  },
  {
   "cell_type": "code",
   "execution_count": null,
   "metadata": {},
   "outputs": [],
   "source": []
  },
  {
   "cell_type": "code",
   "execution_count": null,
   "metadata": {},
   "outputs": [],
   "source": []
  },
  {
   "cell_type": "code",
   "execution_count": 3,
   "metadata": {},
   "outputs": [],
   "source": [
    "def lg_(cpmc):\n",
    "\n",
    "    plot5 = df_url[df_url['产品名称']==cpmc][['产品名称','销售额','升销量']].assign(升价格  = lambda x:x['销售额']/x['升销量'])\n",
    "\n",
    "    ages = plot5.升价格\n",
    "    lower_q=np.quantile(ages,0.15,interpolation='lower')#下四分位数\n",
    "    higher_q=np.quantile(ages,0.85,interpolation='higher')#上四分位数\n",
    "    int_r=higher_q-lower_q#四分位距\n",
    "    lg = pd.cut(plot5.升价格, bins=[0,lower_q-0.00001, higher_q+0.00001,100000]).value_counts()\n",
    "    return f\"{lower_q}|{higher_q}|{lg.to_dict()}\"\n",
    "\n",
    "\n",
    "res = url['产品名称'].map(lambda x:lg_(x))\n",
    "\n"
   ]
  },
  {
   "cell_type": "code",
   "execution_count": 4,
   "metadata": {},
   "outputs": [],
   "source": [
    "url['lower_q'],url['higher_q'],url['lg'] = res.str.split('|').str[0],res.str.split('|').str[1],res.str.split('|').str[2]"
   ]
  },
  {
   "cell_type": "code",
   "execution_count": null,
   "metadata": {},
   "outputs": [],
   "source": []
  },
  {
   "cell_type": "code",
   "execution_count": 82,
   "metadata": {},
   "outputs": [],
   "source": [
    "url.to_excel('价格区间_.xlsx')"
   ]
  },
  {
   "cell_type": "code",
   "execution_count": 8,
   "metadata": {},
   "outputs": [],
   "source": [
    "a = df_url[df_url['产品名称']=='伊利 金典 梦幻盖 有机纯牛奶 250ml*10*4'][['产品名称','销售额','升销量']].assign(升价格  = lambda x:x['销售额']/x['升销量'])"
   ]
  },
  {
   "cell_type": "code",
   "execution_count": 18,
   "metadata": {},
   "outputs": [],
   "source": [
    "\n",
    "import matplotlib.pyplot as plt\n",
    "import numpy as np\n"
   ]
  },
  {
   "cell_type": "code",
   "execution_count": 41,
   "metadata": {},
   "outputs": [
    {
     "data": {
      "text/plain": [
       "array([21.666, 24.752, 27.6  , 24.18 , 30.   , 22.46 , 22.5  , 25.5  ,\n",
       "       24.378, 24.728, 22.   ])"
      ]
     },
     "execution_count": 41,
     "metadata": {},
     "output_type": "execute_result"
    }
   ],
   "source": [
    "a['升价格'].values"
   ]
  },
  {
   "cell_type": "code",
   "execution_count": 49,
   "metadata": {},
   "outputs": [
    {
     "data": {
      "image/png": "[encoded data removed]",
      "text/plain": [
       "<Figure size 432x288 with 1 Axes>"
      ]
     },
     "metadata": {
      "needs_background": "light"
     },
     "output_type": "display_data"
    }
   ],
   "source": [
    "\n",
    "# x = np.array(range(int(a.升价格.max())))\n",
    "plt.scatter(a['升价格'].values,a['升价格'].values)\n",
    "plt.show()"
   ]
  }
 ],
 "metadata": {
  "kernelspec": {
   "display_name": "Python 3.8.8 ('base')",
   "language": "python",
   "name": "python3"
  },
  "language_info": {
   "codemirror_mode": {
    "name": "ipython",
    "version": 3
   },
   "file_extension": ".py",
   "mimetype": "text/x-python",
   "name": "python",
   "nbconvert_exporter": "python",
   "pygments_lexer": "ipython3",
   "version": "3.8.8"
  },
  "orig_nbformat": 4,
  "vscode": {
   "interpreter": {
    "hash": "4810d97fa69c774a27ea716517d3de77cd5994d35ed24e3e258d8e9f36d09c6b"
   }
  }
 },
 "nbformat": 4,
 "nbformat_minor": 2
}
